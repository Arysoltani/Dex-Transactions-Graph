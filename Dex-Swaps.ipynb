{
 "cells": [
  {
   "cell_type": "code",
   "execution_count": 16,
   "id": "9fe6f482",
   "metadata": {},
   "outputs": [],
   "source": [
    "from DexGraph import DexGraph\n",
    "import networkx as nx"
   ]
  },
  {
   "cell_type": "code",
   "execution_count": 18,
   "id": "d03cf1ef",
   "metadata": {},
   "outputs": [
    {
     "name": "stdout",
     "output_type": "stream",
     "text": [
      "Number of Nodes is:  400\n",
      "Number of Edges is:  430\n"
     ]
    }
   ],
   "source": [
    "dex_graph = DexGraph(\"swaps.csv\")\n",
    "print(\"Number of Nodes is: \", dex_graph.crypto_swaps_graph.number_of_nodes())\n",
    "print(\"Number of Edges is: \", dex_graph.crypto_swaps_graph.number_of_edges())"
   ]
  },
  {
   "cell_type": "markdown",
   "id": "cdb8eadd",
   "metadata": {},
   "source": [
    "<h2> <span style=\"color:orange\"> Average Degree</span></h2>"
   ]
  },
  {
   "cell_type": "code",
   "execution_count": 20,
   "id": "8968a20a",
   "metadata": {},
   "outputs": [
    {
     "name": "stdout",
     "output_type": "stream",
     "text": [
      "Average Degree is:  2.15\n"
     ]
    }
   ],
   "source": [
    "print(\"Average Degree is: \", (dex_graph.crypto_swaps_graph.number_of_edges() * 2) \n",
    "      / dex_graph.crypto_swaps_graph.number_of_nodes())"
   ]
  },
  {
   "cell_type": "code",
   "execution_count": 8,
   "id": "a1e4ff86",
   "metadata": {},
   "outputs": [],
   "source": [
    "degree_list = dex_graph.get_list_degree()"
   ]
  },
  {
   "cell_type": "markdown",
   "id": "2a4fe223",
   "metadata": {},
   "source": [
    "<h2> <span style=\"color:orange\"> Fitting power law distribution to degree of nodes</span></h2>"
   ]
  },
  {
   "cell_type": "code",
   "execution_count": 35,
   "id": "58e1f136",
   "metadata": {},
   "outputs": [
    {
     "data": {
      "image/png": "[encoded data removed]",
      "text/plain": [
       "<Figure size 640x480 with 1 Axes>"
      ]
     },
     "metadata": {},
     "output_type": "display_data"
    }
   ],
   "source": [
    "import numpy as np\n",
    "import matplotlib.pyplot as plt\n",
    "\n",
    "count_deg = [(num, degree_list.count(num)) for num in degree_list]\n",
    "count_deg = [*set(count_deg)]\n",
    "count_deg = sorted(count_deg, key = lambda x: x[0])\n",
    "plt.plot([np.log(tmp[0]) for tmp in count_deg], [np.log(tmp[1]) for tmp in count_deg])\n",
    "plt.show()"
   ]
  },
  {
   "cell_type": "markdown",
   "id": "e069a8c0",
   "metadata": {},
   "source": [
    "<h2> <span style=\"color:orange\"> Average Clustering coefficent</span></h2>"
   ]
  },
  {
   "cell_type": "code",
   "execution_count": 17,
   "id": "19741bc2",
   "metadata": {},
   "outputs": [
    {
     "name": "stdout",
     "output_type": "stream",
     "text": [
      "Average Clustering is:  0.06268818145642657\n"
     ]
    }
   ],
   "source": [
    "print(\"Average Clustering is: \", nx.average_clustering(dex_graph.crypto_swaps_graph))"
   ]
  },
  {
   "cell_type": "code",
   "execution_count": null,
   "id": "1070d96d",
   "metadata": {},
   "outputs": [],
   "source": []
  }
 ],
 "metadata": {
  "kernelspec": {
   "display_name": "Python 3 (ipykernel)",
   "language": "python",
   "name": "python3"
  },
  "language_info": {
   "codemirror_mode": {
    "name": "ipython",
    "version": 3
   },
   "file_extension": ".py",
   "mimetype": "text/x-python",
   "name": "python",
   "nbconvert_exporter": "python",
   "pygments_lexer": "ipython3",
   "version": "3.10.6"
  }
 },
 "nbformat": 4,
 "nbformat_minor": 5
}
