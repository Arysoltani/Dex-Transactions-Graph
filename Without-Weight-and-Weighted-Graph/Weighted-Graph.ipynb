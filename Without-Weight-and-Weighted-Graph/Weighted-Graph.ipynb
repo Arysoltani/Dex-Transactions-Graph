{
 "cells": [
  {
   "cell_type": "code",
   "execution_count": 12,
   "id": "6bde8cc5",
   "metadata": {},
   "outputs": [],
   "source": [
    "import networkx as nx\n",
    "import pandas as pd\n",
    "import csv        \n",
    "import numpy as np\n",
    "import matplotlib.pyplot as plt\n",
    "from tqdm import tqdm"
   ]
  },
  {
   "cell_type": "code",
   "execution_count": 13,
   "id": "34ec6d79",
   "metadata": {},
   "outputs": [],
   "source": [
    "out_file = \"Results/metrics.txt\"\n",
    "out_folder = \"Results/\"\n",
    "file_out = open(out_file, \"w\")\n",
    "important_nodes = ['0x1f9840a85d5af5bf1d1762f925bdaddc4201f984', '0x8e6cd950ad6ba651f6dd608dc70e5886b1aa6b24', '0x9f8f72aa9304c8b593d555f12ef6589cc3a579a2', '0xa0b86991c6218b36c1d19d4a2e9eb0ce3606eb48', '0xc944e90c64b2c07662a292be6244bdf05cda44a7', '0xdac17f958d2ee523a2206206994597c13d831ec7', '0x15874d65e649880c2614e7a480cb7c9a55787ff6', '0x249e38ea4102d0cf8264d3701f1a0e39c4f2dc3b', '0x1ceb5cb57c4d4e2b2433641b95dd330a33185a44', '0x0ae055097c6d159879521c384f1d2123d1f195e6', '0xab167e816e4d76089119900e941befdfa37d6b32', '0xf4d2888d29d722226fafa5d9b24f9164c092421e', '0x8b3192f5eebd8579568a2ed41e6feb402f93f73f', '0x6b3595068778dd592e39a122f4f5a5cf09c90fe2', '0xf65b5c5104c4fafd4b709d9d60a185eae063276c', '0xe53ec727dbdeb9e2d5456c3be40cff031ab40a55', '0xc40af1e4fecfa05ce6bab79dcd8b373d2e436c4e', '0xa47c8bf37f92abed4a126bda807a7b7498661acd', '0x95ad61b0a150d79219dcf64e1e6cc01f0b64c4ce', '0x2260fac5e5542a773aa44fbcfedf7c193bc2c599', '0x00a8b738e453ffd858a7edf03bccfe20412f0eb0', '0xfca59cd816ab1ead66534d82bc21e7515ce441cf', '0x8762db106b2c2a0bccb3a80d1ed41273552616e8', '0x990f341946a3fdb507ae7e52d17851b87168017c', '0xd46ba6d942050d489dbd938a2c909a5d5039a161', '0xa2b4c0af19cc16a6cfacce81f192b024d625817d', '0x6b175474e89094c44da98b954eedeac495271d0f', '0xaaaebe6fe48e54f431b0c390cfaf0b017d09d42d', '0x514910771af9ca656af840dff83e8264ecf986ca', '0xd2dda223b2617cb616c1580db421e4cfae6a8a85', '0x2b591e99afe9f32eaa6214f7b7629768c40eeb39', '0xc02aaa39b223fe8d0a0e5c4f27ead9083c756cc2', '0x389999216860ab8e0175387a0c90e5c52522c945', '0x3301ee63fb29f863f2333bd4466acb46cd8323e6', '0x3845badade8e6dff049820680d1f14bd3903a5d0', '0xbbc2ae13b23d715c30720f079fcd9b4a74093505', '0xc00e94cb662c3520282e6f5717214004a7f26888', '0x761d38e5ddf6ccf6cf7c55759d5210750b5d60f3', '0xcc4304a31d09258b0029ea7fe63d032f52e44efe', '0x27c70cd1946795b66be9d954418546998b546634', '0xd533a949740bb3306d119cc777fa900ba034cd52', '0x0b38210ea11411557c13457d4da7dc6ea731b88a', '0x0bc529c00c6401aef6d220be8c6ea1667f6ad93e', '0x111111111117dc0aa78b770fa6a738034120c302', '0xfad45e47083e4607302aa43c65fb3106f1cd7607', '0x83e6f1e41cdd28eaceb20cb649155049fac3d5aa', '0x62359ed7505efc61ff1d56fef82158ccaffa23d7', '0x7d1afa7b718fb893db30a3abc0cfc608aacfebb0', '0xc011a73ee8576fb46f5e1c5751ca3b9fe0af2a6f']"
   ]
  },
  {
   "cell_type": "code",
   "execution_count": 14,
   "id": "3f07a585",
   "metadata": {},
   "outputs": [],
   "source": [
    "MULTI_GRAPH_UNI = \"../PoolsLiquidities/LiquidityPoolsWithinTime/UniSwapV2.csv\"\n",
    "MULTI_GRAPH_SUSHI = \"../PoolsLiquidities/LiquidityPoolsWithinTime/SushiSwap.csv\"\n",
    "NUM_BLOCKS = 100\n",
    "FIRST_BLOCK = 10060850\n",
    "LAST_BLOCK = 15076596"
   ]
  },
  {
   "cell_type": "markdown",
   "id": "785f8a7d",
   "metadata": {},
   "source": [
    "<h1><span style=\"color:red\">MultiGraphs</span></h1>\n",
    "<p>These class consist of some weighted graphs."
   ]
  },
  {
   "cell_type": "code",
   "execution_count": 48,
   "id": "9ce7ebfc",
   "metadata": {},
   "outputs": [],
   "source": [
    "class MultiGraphs:\n",
    "    \n",
    "    def __init__(self, file_path, dex_name, num_blocks):\n",
    "        self.df_pools = pd.read_csv(file_path)\n",
    "        self.dex_name = dex_name\n",
    "        self.graphs = []\n",
    "        for i in tqdm(range(0, num_blocks)):\n",
    "            str_now = \"count\" + str(i)\n",
    "            graph_new = WeightedDexGraph(self.df_pools, dex_name, str_now)\n",
    "            self.graphs.append(graph_new)\n",
    "    \n",
    "    def get_centralities(self, node_address):\n",
    "        cnt = 0\n",
    "        ans = []\n",
    "        cnt = 0\n",
    "        for graph in tqdm(self.graphs):\n",
    "            cnt = cnt + 1\n",
    "            vec_ans = graph.get_eigen_centrality()\n",
    "            if(not node_address in vec_ans):\n",
    "                ans.append(0)\n",
    "            else:\n",
    "                ans.append(vec_ans[node_address])\n",
    "#             print(cnt, vec_ans[node_address])\n",
    "        return ans\n",
    "    \n",
    "    def draw_centralities(self, node_address, node_name, address_input):\n",
    "        \n",
    "        plt.gca().cla()\n",
    "\n",
    "        y = self.get_centralities(node_address)\n",
    "        \n",
    "        dis = (LAST_BLOCK - FIRST_BLOCK) / 100\n",
    "        \n",
    "        x = []\n",
    "        now = FIRST_BLOCK\n",
    "        for i in range(0,NUM_BLOCKS):\n",
    "            x.append(now)\n",
    "            now += dis\n",
    "            \n",
    "#         node_name = self.graphs[0].get_node_name(node_address)\n",
    "        \n",
    "        plt.plot(x, y)\n",
    "        plt.ylabel(f\"{node_name} Token Centrality\")\n",
    "        plt.xlabel(\"Block Number\")\n",
    "#         plt.title(f\" {node_name} Centrality in {self.dex_name}\")\n",
    "        plt.savefig(address_input + f'{node_name}-centrality-{self.dex_name}.png')\n",
    "    \n",
    "        plt.show\n",
    "        \n",
    "    def draw_centralities_specific(self, node_address, node_name, address_input):\n",
    "        \n",
    "#         plt.gca().cla()\n",
    "\n",
    "        y = self.get_centralities(node_address)\n",
    "        \n",
    "        dis = (LAST_BLOCK - FIRST_BLOCK) / 100\n",
    "        \n",
    "        x = []\n",
    "        now = FIRST_BLOCK\n",
    "        for i in range(0,NUM_BLOCKS):\n",
    "            x.append(now)\n",
    "            now += dis\n",
    "            \n",
    "#         node_name = self.graphs[0].get_node_name(node_address)\n",
    "        sum_all = sum(y)\n",
    "        y_without_zero = [temp for temp in y if temp != 0]\n",
    "        num = len(y_without_zero)\n",
    "        avg = sum_all / num\n",
    "        var = np.var(y_without_zero)\n",
    "        y = [temp / avg for temp in y]\n",
    "        \n",
    "        plt.plot(x, y, label = self.dex_name)\n",
    "        plt.ylabel(f\" Normalized {node_name} Token Centrality\")\n",
    "        plt.xlabel(\"Block Number\")\n",
    "#         plt.title(f\"Normalized {node_name} Token Centrality Over Time\")\n",
    "  \n",
    "        plt.show\n",
    " \n",
    "    def get_node_address(token_name):\n",
    "        \n",
    "        y = self.get_centralities(node_address)\n",
    "        \n",
    " \n",
    "        "
   ]
  },
  {
   "cell_type": "markdown",
   "id": "d15ba576",
   "metadata": {},
   "source": [
    "<h1><span style=\"color:red\">DexPools</span></h1>\n",
    "<p>Each of these classes represent a pool in either Uniswap or SushiSwap.<p>"
   ]
  },
  {
   "cell_type": "code",
   "execution_count": 16,
   "id": "95e714f3",
   "metadata": {},
   "outputs": [],
   "source": [
    "class DexPools:\n",
    "    \n",
    "    def __init__(self, file_path, dex_name):\n",
    "        \n",
    "        self.df_pools = pd.read_csv(file_path)\n",
    "        self.name = dex_name\n",
    "    \n",
    "    def filter_first_blocks(self, pools_inp, block_first, block_last):\n",
    "        df_pools_out = pools_inp.replace(np.nan, -1)\n",
    "        df_pools_out = df_pools_out.astype({\"FirstBlock\":\"int\",\"LastBlock\":\"int\"})\n",
    "        df_pools_out = df_pools_out[df_pools_out.FirstBlock >= block_first]\n",
    "        df_pools_out = df_pools_out[df_pools_out.FirstBlock <= block_last]\n",
    "        return df_pools_out\n",
    "    \n",
    "    def filter_last_blocks(self, pools_inp, block_first, block_last):\n",
    "        df_pools_out = pools_inp.replace(np.nan, -1)\n",
    "        df_pools_out = df_pools_out.astype({\"FirstBlock\":\"int\",\"LastBlock\":\"int\"})\n",
    "        df_pools_out = df_pools_out[df_pools_out.LastBlock >= block_first]\n",
    "        df_pools_out = df_pools_out[df_pools_out.LastBlock <= block_last]\n",
    "        return df_pools_out\n",
    "    \n",
    "    def filter_count(self, pools_inp, cnt_min, cnt_max):\n",
    "        df_pools_out = pools_inp.replace(np.nan, -1)\n",
    "        df_pools_out = df_pools_out.astype({\"CntTransfer\":\"int\"})\n",
    "        df_pools_out = df_pools_out[df_pools_out.CntTransfer >= cnt_min]\n",
    "        df_pools_out = df_pools_out[df_pools_out.CntTransfer <= cnt_max]\n",
    "        return df_pools_out\n",
    "    \n",
    "    def find_lost_pools(self):\n",
    "        df_pools_out = self.filter_count(self.df_pools, 100000, 10000000000)\n",
    "        df_pools_out = self.filter_last_blocks(df_pools_out, 0, 14500000)\n",
    "        return df_pools_out\n",
    "    \n",
    "    def get_edge_cnt(self, token1, token2):\n",
    "        df_pools = self.df_pools[self.df_pools.AddressToken0 == token1]\n",
    "        df_pools = df_pools[df_pools.AddressToken1 == token2]\n",
    "        if(len(df_pools) == 0):\n",
    "            return None\n",
    "        else:\n",
    "            return df_pools.iloc[0]['CntTransfer']"
   ]
  },
  {
   "cell_type": "markdown",
   "id": "e74aad42",
   "metadata": {},
   "source": [
    "<h1><span style=\"color:red\">WeightedDexGraph</span></h1>\n",
    "<p>These classes are used for keeping graphs made within a time between various token in a specific platform.<p>"
   ]
  },
  {
   "cell_type": "code",
   "execution_count": 17,
   "id": "c4a5edee",
   "metadata": {},
   "outputs": [],
   "source": [
    "COLUMN_NAME = [\"AddressToken0\",\"AddressToken1\"]\n",
    "\n",
    "class WeightedDexGraph:\n",
    "\n",
    "    def __init__(self, df_pools, name, cnt_transfer = \"CntTransfer\"):\n",
    "        \n",
    "        self.crypto_graph = nx.Graph()\n",
    "        self.name = name\n",
    "        \n",
    "        nodes = pd.DataFrame({'Id': [], 'Label': []})\n",
    "        edges = pd.DataFrame({'Source': [], 'Target': [], 'Weight': []})\n",
    "        \n",
    "        dict_ind = {}\n",
    "        symbol = []\n",
    "        cnt_nodes_seen = 1\n",
    "        \n",
    "        nx.set_node_attributes(self.crypto_graph, symbol, \"symbol\")\n",
    "\n",
    "        for row in df_pools.index:\n",
    "                \n",
    "            sell_token = df_pools['AddressToken0'][row]\n",
    "            buy_token = df_pools['AddressToken1'][row]\n",
    "            \n",
    "            count_transfer = df_pools[cnt_transfer][row]\n",
    "            \n",
    "            \n",
    "            if(count_transfer == 0):\n",
    "                continue\n",
    "            \n",
    "            self.add_node(self.crypto_graph, buy_token)\n",
    "            self.add_node(self.crypto_graph, sell_token)\n",
    "            \n",
    "            sell_symbol = df_pools['SymbolToken0'][row]\n",
    "            buy_symbol = df_pools['SymbolToken1'][row]\n",
    "                        \n",
    "            self.crypto_graph.nodes[sell_token][\"symbol\"] = sell_symbol\n",
    "            self.crypto_graph.nodes[buy_token][\"symbol\"] = buy_symbol\n",
    "            \n",
    "            \n",
    "            if(not buy_token in dict_ind):\n",
    "                dict_ind[buy_token] = cnt_nodes_seen\n",
    "                nodes = pd.concat([nodes, pd.DataFrame([{'Id': buy_token, 'Label': buy_symbol}])], ignore_index=True)\n",
    "\n",
    "                cnt_nodes_seen += 1\n",
    "            \n",
    "            if(not sell_token in dict_ind):\n",
    "                dict_ind[sell_token] = cnt_nodes_seen\n",
    "                nodes = pd.concat([nodes, pd.DataFrame([{'Id': sell_token, 'Label': sell_symbol}])], ignore_index=True)\n",
    "                cnt_nodes_seen += 1\n",
    "            \n",
    "            if(not(self.crypto_graph.has_edge(buy_token, sell_token)) and count_transfer != 0):\n",
    "                self.crypto_graph.add_edge(buy_token, sell_token, weight = count_transfer)\n",
    "                edges = pd.concat([edges, pd.DataFrame([{'Source':buy_token, 'Target': sell_token, \n",
    "                              'Weight': count_transfer}])], ignore_index=True)\n",
    "        self.build_file_graph(nodes, edges, name)\n",
    "    \n",
    "    def build_file_graph(self, nodes, edges, name):\n",
    "        nodes.to_csv('Graph-For-Gephi/' + name + 'nodes' + '.csv', index=False, float_format='%g')\n",
    "        edges.to_csv('Graph-For-Gephi/' + name + 'edges' + '.csv', index=False, float_format='%g')\n",
    "                \n",
    "    def get_node_name(self, node_address):\n",
    "         return self.crypto_graph.nodes[node_address][\"symbol\"]\n",
    "                \n",
    "    def get_eigen_centrality(self):\n",
    "        if(len(self.crypto_graph) == 0):\n",
    "            return []\n",
    "        eigen_centrality = nx.eigenvector_centrality(self.crypto_graph,weight = 'weight', max_iter = 100000, \n",
    "                                                     tol = 1e-4) \n",
    "        return eigen_centrality\n",
    "    \n",
    "    def get_reversed_sorted_ranks(self, dict_ranks):\n",
    "        \n",
    "        dict_ans = dict(sorted(dict_ranks.items(), key = lambda x:-1 * x[1]))\n",
    "        return dict_ans\n",
    "    \n",
    "    def change_ranks_with_symbol(self, dict_ranks):\n",
    "        \n",
    "        dict_ans = [(self.crypto_graph.nodes[key][\"symbol\"], value) \n",
    "                        for (key, value) in dict_ranks.items()]\n",
    "        return dict_ans\n",
    "    \n",
    "    def get_top_ranks(self, rank_inp, number_of_tokens):\n",
    "        return rank_inp[0:number_of_tokens - 1]\n",
    "        \n",
    "    def get_page_rank(self):\n",
    "        \n",
    "        page_rank = nx.pagerank(self.crypto_graph,weight = 'weight', max_iter = 1000, alpha=0.9, \n",
    "                               tol = 1e-4)\n",
    "        return page_rank\n",
    "    \n",
    "    \n",
    "    \n",
    "    def get_degree(self, node_name):\n",
    "        if(not self.crypto_graph.has_node(node_name)):\n",
    "            return 0\n",
    "        return self.crypto_graph.degree[node_name]\n",
    "\n",
    "    def add_node(self, graph_input, token_input):\n",
    "        if(not graph_input.has_node(token_input)):\n",
    "            graph_input.add_node(token_input)\n",
    "    \n",
    "    def get_list_degree(self):\n",
    "        degree_node_list = self.crypto_graph.degree()\n",
    "        degree_list = [deg[1] for deg in degree_node_list]\n",
    "        degree_list.sort()\n",
    "        return degree_list\n",
    "\n",
    "    def print(self, file_path_output):\n",
    "        graph_file = open(file_path_output, 'w')\n",
    "        graph_writer = csv.writer(graph_file)\n",
    "        graph_writer.writerow(COLUMN_NAME)\n",
    "        for edge in self.crypto_graph.edges:\n",
    "             graph_writer.writerow(edge)\n",
    "\n",
    "    def get_best_vertices(self, num):\n",
    "        degree_node_list = self.crypto_graph.degree()\n",
    "        degree_node = sorted(degree_node_list, key = lambda vertex: vertex[1])    \n",
    "        return degree_node\n",
    "    \n",
    "    def get_count_deg(self, degree_list):\n",
    "        count_deg = [(num, degree_list.count(num)) for num in degree_list]\n",
    "        count_deg = [*set(count_deg)]\n",
    "        count_deg = sorted(count_deg, key = lambda x: x[0])\n",
    "        return count_deg\n",
    "    \n",
    "    def draw_plot_degree(self, degree_list, flag = False):\n",
    "        \n",
    "        count_deg = self.get_count_deg(degree_list)\n",
    "        \n",
    "        x = np.array([tmp[1] for tmp in count_deg])\n",
    "        y = -0.8435 * x + 4.6\n",
    "        print(x, y)\n",
    "\n",
    "        plt.xscale('log')\n",
    "        plt.yscale('log')\n",
    "        plt.plot([tmp[1] for tmp in count_deg], [tmp[0] for tmp in count_deg])\n",
    "        if(flag):\n",
    "            plt.xlabel(\"Log Count Nodes\")\n",
    "            plt.ylabel(\"Log Degree\")\n",
    "            plt.show()\n",
    " \n",
    "        plt.plot(x, y)\n",
    "        plt.ylabel(\"Log Count Nodes\")\n",
    "        plt.xlabel(\"Log Degree\")\n",
    "        plt.title(f\"{self.name} Log Log plot\")\n",
    "        \n",
    "        plt.show()\n",
    "    \n",
    "    def print_info(self, is_avg_clustering = True, is_plot = True, is_page_rank = True,\n",
    "            is_betweeness = False, is_eigen = False, is_closeness = False):\n",
    "        \n",
    "        print(f\"Number of Nodes {self.name} is: \", self.crypto_graph.number_of_nodes())\n",
    "        print(f\"Number of Edges {self.name} is: \", self.crypto_graph.number_of_edges())\n",
    "        print(f\"Average Degree {self.name} is: \", (self.crypto_graph.number_of_edges() * 2) \n",
    "      / self.crypto_graph.number_of_nodes())\n",
    "        if(is_avg_clustering):\n",
    "            print(f\"Average Clustering {self.name} is: \", nx.average_clustering(uni_graph.crypto_swaps_graph))\n",
    "        if(is_plot):\n",
    "            degree_list_graph = self.get_list_degree()\n",
    "            self.draw_plot_degree(degree_list_graph)\n",
    "            \n",
    "        if(is_page_rank):    \n",
    "            page_rank = self.get_sorted_page_rank_nodes()\n",
    "            print(f\"{self.name} Top 100 Tokens: \", page_rank[-1:-100:-1])\n",
    "        \n",
    "        if(is_betweeness):\n",
    "            betweenness_centrality = nx.betweenness_centrality(dex_graph.crypto_swaps_graph)\n",
    "            betweenness_centrality = sorted(betweenness_centrality.items(), key = operator.itemgetter(1))    \n",
    "            print(\"Betweenness\", betweenness_centrality)\n",
    "            \n",
    "        if(is_eigen):\n",
    "            eigen_vector_centrality = nx.eigenvector_centrality(dex_graph.crypto_swaps_graph)\n",
    "            print(\"EigenVector\", eigen_vector_centrality)\n",
    "        \n",
    "        if(is_closeness):\n",
    "            closeness_centrality = nx.closeness_centrality(dex_graph.crypto_swaps_graph)\n",
    "            closeness_centrality = sorted(closeness_centrality.items(), key = operator.itemgetter(1))    \n",
    "            print(\"Closeness\", closeness_centrality)\n",
    "            \n",
    "        print(\"Components:\")\n",
    "        num_componenent = [x for x in nx.connected_components(self.crypto_graph)]\n",
    "        print([len(component) for component in num_componenent])\n",
    "        \n",
    "        \n",
    "        num_nodes = self.crypto_graph.number_of_nodes()\n",
    "        max_edges = (num_nodes * (num_nodes - 1)) / 2\n",
    "        print(\"Density of the graph is: \", (self.crypto_graph.number_of_edges() * 2) / (max_edges))\n",
    "        \n",
    "    def check_power_law(self):\n",
    "            \n",
    "        count_deg = self.get_count_deg(self.get_list_degree())\n",
    "\n",
    "        x = [np.log(sample[0]) for sample in count_deg]\n",
    "        y = [np.log(sample[1]) for sample in count_deg]\n",
    "        x2 = sm.add_constant(x)\n",
    "        est = sm.OLS(y, x2)\n",
    "        print(est.fit().summary())\n",
    "        print(est.fit().f_pvalue)\n",
    "    \n",
    "    def plot_degree(self, degree_list):\n",
    "        \n",
    "        x_axis = [a[0] for a in degree_list]\n",
    "        y_axis = [a[1] for a in degree_list]\n",
    "        plt.plot(x_axis, y_axis)\n",
    "        plt.ylabel(\"Count Nodes\")\n",
    "        plt.xlabel(\"Degree\")\n",
    "        plt.title(f\"{self.name} Degree Distribution Plot\")\n",
    "        \n",
    "        plt.show()\n",
    "    \n",
    "    def plot_log_degree(self, degree_list):\n",
    "        eps = 1e-7\n",
    "        x_axis = [np.log(a[0] + eps) for a in degree_list]\n",
    "        y_axis = [np.log(a[1] + eps) for a in degree_list]\n",
    "        plt.plot(x_axis, y_axis)\n",
    "        plt.ylabel(\"Log Count Nodes\")\n",
    "        plt.xlabel(\"Log Degree\")\n",
    "        plt.title(f\"{self.name} Log Degree Distribution Plot\")\n",
    "        \n",
    "        plt.show()\n",
    "    \n",
    "        "
   ]
  },
  {
   "cell_type": "code",
   "execution_count": 18,
   "id": "a4666cd7",
   "metadata": {},
   "outputs": [],
   "source": [
    "   def get_block_range(index):\n",
    "        dis = (LAST_BLOCK - FIRST_BLOCK) / 100\n",
    "        ans = [dis * index + FIRST_BLOCK, dis * (index + 1) + FIRST_BLOCK]\n",
    "        return ans"
   ]
  },
  {
   "cell_type": "markdown",
   "id": "65ad56f8",
   "metadata": {},
   "source": [
    "<h2><span style=\"color:red\">Making Without Filter Dex Pools</span></h2>"
   ]
  },
  {
   "cell_type": "code",
   "execution_count": 19,
   "id": "2fbbc5c8",
   "metadata": {},
   "outputs": [],
   "source": [
    "uni_dex = DexPools(\"../PoolsLiquidities/LiquidityPools/UniSwapV2.csv\", \"UniSwapV2\")\n",
    "sushi_dex = DexPools(\"../PoolsLiquidities/LiquidityPools/SushiSwap.csv\", \"SushiSwap\")"
   ]
  },
  {
   "cell_type": "markdown",
   "id": "ec654909",
   "metadata": {},
   "source": [
    "<h2><span style=\"color:red\">Function for removing nodes without any edge in a network</span></h2>"
   ]
  },
  {
   "cell_type": "code",
   "execution_count": 20,
   "id": "cf6706a7",
   "metadata": {},
   "outputs": [],
   "source": [
    "def remove_nodes_deg0(G):\n",
    "    edges_to_remove = [(u, v) for u, v, weight in G.edges(data='weight') if weight == 0]\n",
    "\n",
    "    G.remove_edges_from(edges_to_remove)\n",
    "    nodes_to_remove = [node for node, degree in dict(G.degree()).items() if degree == 0]\n",
    "    G.remove_nodes_from(nodes_to_remove)"
   ]
  },
  {
   "cell_type": "markdown",
   "id": "ea2fd8c9",
   "metadata": {},
   "source": [
    "<h2><span style=\"color:red\">Making weighted networks</span></h2>"
   ]
  },
  {
   "cell_type": "code",
   "execution_count": 21,
   "id": "0ed21909",
   "metadata": {},
   "outputs": [],
   "source": [
    "uni_graph = WeightedDexGraph(uni_dex.df_pools, \"UniSwapV2\")\n",
    "sushi_graph = WeightedDexGraph(sushi_dex.df_pools, \"SushiSwap\")"
   ]
  },
  {
   "cell_type": "code",
   "execution_count": 24,
   "id": "a279835a",
   "metadata": {},
   "outputs": [],
   "source": [
    "remove_nodes_deg0(uni_graph.crypto_graph)\n",
    "remove_nodes_deg0(sushi_graph.crypto_graph)"
   ]
  },
  {
   "cell_type": "code",
   "execution_count": 25,
   "id": "4b7f7679",
   "metadata": {},
   "outputs": [
    {
     "data": {
      "text/plain": [
       "63"
      ]
     },
     "execution_count": 25,
     "metadata": {},
     "output_type": "execute_result"
    }
   ],
   "source": [
    "file_out.write(\"Uniswap weighted graph: \"+ str(uni_graph.crypto_graph) + \"\\n\")\n",
    "file_out.write(\"SushiSwap weighted graph: \"+ str(sushi_graph.crypto_graph) + \"\\n\")"
   ]
  },
  {
   "cell_type": "code",
   "execution_count": 26,
   "id": "3433ffc5",
   "metadata": {},
   "outputs": [],
   "source": [
    "dex_type = [\"Uniswap\", \"SushiSwap\"]\n",
    "for dex in dex_type:\n",
    "\n",
    "    if(dex == \"Uniswap\"):\n",
    "        dex_graph = uni_graph\n",
    "    else:\n",
    "        dex_graph = sushi_graph\n",
    "    sz = [len(x) for x in nx.connected_components(dex_graph.crypto_graph)]\n",
    "    file_comp = open(f\"./Results/Components/Components-not-giant {dex}.txt\", \"w\")\n",
    "    file_comp.write(f\"{dex} graph non-giant components' info:\\n\")\n",
    "    file_comp.write(str(sz) + \"\\n\")\n",
    "\n",
    "    for x in nx.connected_components(dex_graph.crypto_graph):\n",
    "        if(len(x) != max(sz)):\n",
    "            cnt = 0\n",
    "            for node_address in x:\n",
    "                cnt += 1\n",
    "                if(cnt != len(x)):\n",
    "                    file_comp.write(dex_graph.crypto_graph.nodes[node_address][\"symbol\"] + \",\")\n",
    "                else:\n",
    "                    file_comp.write(dex_graph.crypto_graph.nodes[node_address][\"symbol\"] + \"\\n\")\n",
    "    file_comp.close()"
   ]
  },
  {
   "cell_type": "markdown",
   "id": "a80bcbb3",
   "metadata": {},
   "source": [
    "<h2><span style=\"color:red\">Make uniswap and sushiswap graph files</span></h2>"
   ]
  },
  {
   "cell_type": "code",
   "execution_count": 27,
   "id": "50a42937",
   "metadata": {},
   "outputs": [],
   "source": [
    "nx.write_gexf(uni_graph.crypto_graph, \"Uniswap.gexf\")\n",
    "nx.write_gexf(sushi_graph.crypto_graph, \"Sushiswap.gexf\")"
   ]
  },
  {
   "cell_type": "code",
   "execution_count": 28,
   "id": "978b2a62",
   "metadata": {},
   "outputs": [],
   "source": [
    "nx.write_weighted_edgelist(sushi_graph.crypto_graph, \"SushiWeighted.csv\")"
   ]
  },
  {
   "cell_type": "markdown",
   "id": "dc524c88",
   "metadata": {},
   "source": [
    "<h2><span style=\"color:red\">Eigen Centrality for Graphs</span></h2>"
   ]
  },
  {
   "cell_type": "code",
   "execution_count": 29,
   "id": "bcff37ae",
   "metadata": {},
   "outputs": [],
   "source": [
    "dex_type = [\"Uniswap\", \"SushiSwap\"]\n",
    "for dex in dex_type:\n",
    "\n",
    "    if(dex == \"Uniswap\"):\n",
    "        dex_graph = uni_graph\n",
    "    else:\n",
    "        dex_graph = sushi_graph\n",
    "    file_dex = open(f\"Results/Centrality/EigenTop50-{dex}.txt\", \"w\")\n",
    "    eigen_vec = dex_graph.get_eigen_centrality()\n",
    "    eigen_vec = dex_graph.get_reversed_sorted_ranks(eigen_vec)\n",
    "    eigen_vec = dex_graph.change_ranks_with_symbol(eigen_vec)\n",
    "    top_ranks = dex_graph.get_top_ranks(eigen_vec, 50)\n",
    "    file_dex.write(f\"Top 50 token {dex}:\\n\")\n",
    "    file_dex.write(str(top_ranks))\n",
    "    file_dex.close()"
   ]
  },
  {
   "cell_type": "markdown",
   "id": "222b214e",
   "metadata": {},
   "source": [
    "<h2><span style=\"color:red\">Page Rank Centrality for Graphs</span></h2>"
   ]
  },
  {
   "cell_type": "code",
   "execution_count": 30,
   "id": "57c51838",
   "metadata": {},
   "outputs": [],
   "source": [
    "dex_type = [\"Uniswap\", \"SushiSwap\"]\n",
    "for dex in dex_type:\n",
    "\n",
    "    if(dex == \"Uniswap\"):\n",
    "        dex_graph = uni_graph\n",
    "    else:\n",
    "        dex_graph = sushi_graph\n",
    "    file_dex = open(f\"Results/Centrality/PageRankTop50-{dex}.txt\", \"w\")\n",
    "    pg_vec = dex_graph.get_page_rank()\n",
    "    pg_vec = dex_graph.get_reversed_sorted_ranks(pg_vec)\n",
    "    pg_vec = dex_graph.change_ranks_with_symbol(pg_vec)\n",
    "    top_ranks = dex_graph.get_top_ranks(pg_vec, 50)\n",
    "    file_dex.write(f\"Top 50 token {dex}:\\n\")\n",
    "    file_dex.write(str(top_ranks))\n",
    "    file_dex.close()"
   ]
  },
  {
   "cell_type": "markdown",
   "id": "cd75a0c8",
   "metadata": {},
   "source": [
    "<h2><span style=\"color:red\">Degree With Weights Graphs</span></h2>"
   ]
  },
  {
   "cell_type": "code",
   "execution_count": 63,
   "id": "4576970b",
   "metadata": {},
   "outputs": [],
   "source": [
    "dex_type = [\"Uniswap\", \"SushiSwap\"]\n",
    "for dex in dex_type:\n",
    "\n",
    "    if(dex == \"Uniswap\"):\n",
    "        dex_graph = uni_graph\n",
    "    else:\n",
    "        dex_graph = sushi_graph\n",
    "    file_dex = open(f\"Results/Centrality/DegTop50-{dex}.txt\", \"w\")\n",
    "    deg_vec = dict(dex_graph.crypto_graph.degree(weight = 'weight'))\n",
    "    deg_vec = dex_graph.get_reversed_sorted_ranks(deg_vec)\n",
    "    deg_vec = dex_graph.change_ranks_with_symbol(deg_vec)\n",
    "    top_ranks = dex_graph.get_top_ranks(deg_vec, 50)\n",
    "    file_dex.write(f\"Top 50 token {dex}:\\n\")\n",
    "    file_dex.write(str(top_ranks))\n",
    "    file_dex.close()"
   ]
  },
  {
   "cell_type": "markdown",
   "id": "d635887e",
   "metadata": {},
   "source": [
    "<h2><span style=\"color:red\">Graphs With Time Limit</span></h2>"
   ]
  },
  {
   "cell_type": "code",
   "execution_count": 31,
   "id": "c02cd955",
   "metadata": {},
   "outputs": [
    {
     "name": "stderr",
     "output_type": "stream",
     "text": [
      "100%|█████████████████████████████████████████| 100/100 [05:16<00:00,  3.17s/it]\n"
     ]
    }
   ],
   "source": [
    "uni_multi_graph = MultiGraphs(MULTI_GRAPH_UNI, \"UniswapV2\", NUM_BLOCKS)"
   ]
  },
  {
   "cell_type": "code",
   "execution_count": 49,
   "id": "c4cdef6f",
   "metadata": {},
   "outputs": [
    {
     "name": "stderr",
     "output_type": "stream",
     "text": [
      "100%|█████████████████████████████████████████| 100/100 [00:23<00:00,  4.21it/s]\n"
     ]
    }
   ],
   "source": [
    "sushi_multi_graph = MultiGraphs(MULTI_GRAPH_SUSHI, \"SushiSwap\", NUM_BLOCKS)"
   ]
  },
  {
   "cell_type": "code",
   "execution_count": 50,
   "id": "2e1139ac",
   "metadata": {},
   "outputs": [
    {
     "name": "stderr",
     "output_type": "stream",
     "text": [
      "100%|█████████████████████████████████████████| 100/100 [00:56<00:00,  1.78it/s]\n"
     ]
    },
    {
     "data": {
      "image/png": "[encoded data removed]",
      "text/plain": [
       "<Figure size 640x480 with 1 Axes>"
      ]
     },
     "metadata": {},
     "output_type": "display_data"
    }
   ],
   "source": [
    "sushi_multi_graph.draw_centralities(\"0x368b3a58b5f49392e5c9e4c998cb0bb966752e51\", \"MIC\",\"./Results/CentralitiesWithinTime/\")\n"
   ]
  },
  {
   "cell_type": "code",
   "execution_count": 33,
   "id": "63cc6a87",
   "metadata": {},
   "outputs": [
    {
     "name": "stderr",
     "output_type": "stream",
     "text": [
      "100%|█████████████████████████████████████████| 100/100 [00:52<00:00,  1.92it/s]\n",
      " 25%|██████████▌                               | 25/100 [00:03<00:10,  6.86it/s]\n"
     ]
    },
    {
     "ename": "KeyboardInterrupt",
     "evalue": "",
     "output_type": "error",
     "traceback": [
      "\u001b[0;31m---------------------------------------------------------------------------\u001b[0m",
      "\u001b[0;31mKeyboardInterrupt\u001b[0m                         Traceback (most recent call last)",
      "Cell \u001b[0;32mIn[33], line 4\u001b[0m\n\u001b[1;32m      2\u001b[0m \u001b[38;5;28;01mfor\u001b[39;00m node \u001b[38;5;129;01min\u001b[39;00m important_nodes:\n\u001b[1;32m      3\u001b[0m     \u001b[38;5;28;01mif\u001b[39;00m(node \u001b[38;5;129;01min\u001b[39;00m sushi_graph\u001b[38;5;241m.\u001b[39mcrypto_graph\u001b[38;5;241m.\u001b[39mnodes):\n\u001b[0;32m----> 4\u001b[0m         \u001b[43msushi_multi_graph\u001b[49m\u001b[38;5;241;43m.\u001b[39;49m\u001b[43mdraw_centralities\u001b[49m\u001b[43m(\u001b[49m\u001b[43mnode\u001b[49m\u001b[43m,\u001b[49m\u001b[43m \u001b[49m\u001b[43msushi_graph\u001b[49m\u001b[38;5;241;43m.\u001b[39;49m\u001b[43mcrypto_graph\u001b[49m\u001b[38;5;241;43m.\u001b[39;49m\u001b[43mnodes\u001b[49m\u001b[43m[\u001b[49m\u001b[43mnode\u001b[49m\u001b[43m]\u001b[49m\u001b[43m[\u001b[49m\u001b[38;5;124;43m\"\u001b[39;49m\u001b[38;5;124;43msymbol\u001b[39;49m\u001b[38;5;124;43m\"\u001b[39;49m\u001b[43m]\u001b[49m\u001b[43m,\u001b[49m\u001b[43m \u001b[49m\u001b[43mfolder_address\u001b[49m\u001b[43m)\u001b[49m\n\u001b[1;32m      5\u001b[0m \u001b[38;5;66;03m#     if(node in uni_graph.crypto_graph.nodes):\u001b[39;00m\n\u001b[1;32m      6\u001b[0m \u001b[38;5;66;03m#         uni_multi_graph.draw_centralities(node, uni_graph.crypto_graph.nodes[node][\"symbol\"], folder_address)\u001b[39;00m\n",
      "Cell \u001b[0;32mIn[31], line 30\u001b[0m, in \u001b[0;36mMultiGraphs.draw_centralities\u001b[0;34m(self, node_address, node_name, address_input)\u001b[0m\n\u001b[1;32m     26\u001b[0m \u001b[38;5;28;01mdef\u001b[39;00m \u001b[38;5;21mdraw_centralities\u001b[39m(\u001b[38;5;28mself\u001b[39m, node_address, node_name, address_input):\n\u001b[1;32m     28\u001b[0m     plt\u001b[38;5;241m.\u001b[39mgca()\u001b[38;5;241m.\u001b[39mcla()\n\u001b[0;32m---> 30\u001b[0m     y \u001b[38;5;241m=\u001b[39m \u001b[38;5;28;43mself\u001b[39;49m\u001b[38;5;241;43m.\u001b[39;49m\u001b[43mget_centralities\u001b[49m\u001b[43m(\u001b[49m\u001b[43mnode_address\u001b[49m\u001b[43m)\u001b[49m\n\u001b[1;32m     32\u001b[0m     dis \u001b[38;5;241m=\u001b[39m (LAST_BLOCK \u001b[38;5;241m-\u001b[39m FIRST_BLOCK) \u001b[38;5;241m/\u001b[39m \u001b[38;5;241m100\u001b[39m\n\u001b[1;32m     34\u001b[0m     x \u001b[38;5;241m=\u001b[39m []\n",
      "Cell \u001b[0;32mIn[31], line 18\u001b[0m, in \u001b[0;36mMultiGraphs.get_centralities\u001b[0;34m(self, node_address)\u001b[0m\n\u001b[1;32m     16\u001b[0m \u001b[38;5;28;01mfor\u001b[39;00m graph \u001b[38;5;129;01min\u001b[39;00m tqdm(\u001b[38;5;28mself\u001b[39m\u001b[38;5;241m.\u001b[39mgraphs):\n\u001b[1;32m     17\u001b[0m     cnt \u001b[38;5;241m=\u001b[39m cnt \u001b[38;5;241m+\u001b[39m \u001b[38;5;241m1\u001b[39m\n\u001b[0;32m---> 18\u001b[0m     vec_ans \u001b[38;5;241m=\u001b[39m \u001b[43mgraph\u001b[49m\u001b[38;5;241;43m.\u001b[39;49m\u001b[43mget_eigen_centrality\u001b[49m\u001b[43m(\u001b[49m\u001b[43m)\u001b[49m\n\u001b[1;32m     19\u001b[0m     \u001b[38;5;28;01mif\u001b[39;00m(\u001b[38;5;129;01mnot\u001b[39;00m node_address \u001b[38;5;129;01min\u001b[39;00m vec_ans):\n\u001b[1;32m     20\u001b[0m         ans\u001b[38;5;241m.\u001b[39mappend(\u001b[38;5;241m0\u001b[39m)\n",
      "Cell \u001b[0;32mIn[14], line 67\u001b[0m, in \u001b[0;36mWeightedDexGraph.get_eigen_centrality\u001b[0;34m(self)\u001b[0m\n\u001b[1;32m     65\u001b[0m \u001b[38;5;28;01mif\u001b[39;00m(\u001b[38;5;28mlen\u001b[39m(\u001b[38;5;28mself\u001b[39m\u001b[38;5;241m.\u001b[39mcrypto_graph) \u001b[38;5;241m==\u001b[39m \u001b[38;5;241m0\u001b[39m):\n\u001b[1;32m     66\u001b[0m     \u001b[38;5;28;01mreturn\u001b[39;00m []\n\u001b[0;32m---> 67\u001b[0m eigen_centrality \u001b[38;5;241m=\u001b[39m \u001b[43mnx\u001b[49m\u001b[38;5;241;43m.\u001b[39;49m\u001b[43meigenvector_centrality\u001b[49m\u001b[43m(\u001b[49m\u001b[38;5;28;43mself\u001b[39;49m\u001b[38;5;241;43m.\u001b[39;49m\u001b[43mcrypto_graph\u001b[49m\u001b[43m,\u001b[49m\u001b[43mweight\u001b[49m\u001b[43m \u001b[49m\u001b[38;5;241;43m=\u001b[39;49m\u001b[43m \u001b[49m\u001b[38;5;124;43m'\u001b[39;49m\u001b[38;5;124;43mweight\u001b[39;49m\u001b[38;5;124;43m'\u001b[39;49m\u001b[43m,\u001b[49m\u001b[43m \u001b[49m\u001b[43mmax_iter\u001b[49m\u001b[43m \u001b[49m\u001b[38;5;241;43m=\u001b[39;49m\u001b[43m \u001b[49m\u001b[38;5;241;43m100000\u001b[39;49m\u001b[43m,\u001b[49m\u001b[43m \u001b[49m\n\u001b[1;32m     68\u001b[0m \u001b[43m                                             \u001b[49m\u001b[43mtol\u001b[49m\u001b[43m \u001b[49m\u001b[38;5;241;43m=\u001b[39;49m\u001b[43m \u001b[49m\u001b[38;5;241;43m1e-4\u001b[39;49m\u001b[43m)\u001b[49m \n\u001b[1;32m     69\u001b[0m \u001b[38;5;28;01mreturn\u001b[39;00m eigen_centrality\n",
      "File \u001b[0;32m~/.local/lib/python3.10/site-packages/networkx/classes/backends.py:148\u001b[0m, in \u001b[0;36m_dispatch.<locals>.wrapper\u001b[0;34m(*args, **kwds)\u001b[0m\n\u001b[1;32m    144\u001b[0m         \u001b[38;5;28;01melse\u001b[39;00m:\n\u001b[1;32m    145\u001b[0m             \u001b[38;5;28;01mraise\u001b[39;00m NetworkXNotImplemented(\n\u001b[1;32m    146\u001b[0m                 \u001b[38;5;124mf\u001b[39m\u001b[38;5;124m\"\u001b[39m\u001b[38;5;124m'\u001b[39m\u001b[38;5;132;01m{\u001b[39;00mname\u001b[38;5;132;01m}\u001b[39;00m\u001b[38;5;124m'\u001b[39m\u001b[38;5;124m not implemented by \u001b[39m\u001b[38;5;132;01m{\u001b[39;00mplugin_name\u001b[38;5;132;01m}\u001b[39;00m\u001b[38;5;124m\"\u001b[39m\n\u001b[1;32m    147\u001b[0m             )\n\u001b[0;32m--> 148\u001b[0m \u001b[38;5;28;01mreturn\u001b[39;00m \u001b[43mfunc\u001b[49m\u001b[43m(\u001b[49m\u001b[38;5;241;43m*\u001b[39;49m\u001b[43margs\u001b[49m\u001b[43m,\u001b[49m\u001b[43m \u001b[49m\u001b[38;5;241;43m*\u001b[39;49m\u001b[38;5;241;43m*\u001b[39;49m\u001b[43mkwds\u001b[49m\u001b[43m)\u001b[49m\n",
      "File \u001b[0;32m<class 'networkx.utils.decorators.argmap'> compilation 4:4\u001b[0m, in \u001b[0;36margmap_eigenvector_centrality_1\u001b[0;34m(G, max_iter, tol, nstart, weight)\u001b[0m\n\u001b[1;32m      2\u001b[0m \u001b[38;5;28;01mimport\u001b[39;00m \u001b[38;5;21;01mcollections\u001b[39;00m\n\u001b[1;32m      3\u001b[0m \u001b[38;5;28;01mimport\u001b[39;00m \u001b[38;5;21;01mgzip\u001b[39;00m\n\u001b[0;32m----> 4\u001b[0m \u001b[38;5;28;01mimport\u001b[39;00m \u001b[38;5;21;01minspect\u001b[39;00m\n\u001b[1;32m      5\u001b[0m \u001b[38;5;28;01mimport\u001b[39;00m \u001b[38;5;21;01mitertools\u001b[39;00m\n\u001b[1;32m      6\u001b[0m \u001b[38;5;28;01mimport\u001b[39;00m \u001b[38;5;21;01mre\u001b[39;00m\n",
      "File \u001b[0;32m~/.local/lib/python3.10/site-packages/networkx/algorithms/centrality/eigenvector.py:127\u001b[0m, in \u001b[0;36meigenvector_centrality\u001b[0;34m(G, max_iter, tol, nstart, weight)\u001b[0m\n\u001b[1;32m    125\u001b[0m \u001b[38;5;28;01mfor\u001b[39;00m n \u001b[38;5;129;01min\u001b[39;00m x:\n\u001b[1;32m    126\u001b[0m     \u001b[38;5;28;01mfor\u001b[39;00m nbr \u001b[38;5;129;01min\u001b[39;00m G[n]:\n\u001b[0;32m--> 127\u001b[0m         w \u001b[38;5;241m=\u001b[39m \u001b[43mG\u001b[49m\u001b[43m[\u001b[49m\u001b[43mn\u001b[49m\u001b[43m]\u001b[49m[nbr]\u001b[38;5;241m.\u001b[39mget(weight, \u001b[38;5;241m1\u001b[39m) \u001b[38;5;28;01mif\u001b[39;00m weight \u001b[38;5;28;01melse\u001b[39;00m \u001b[38;5;241m1\u001b[39m\n\u001b[1;32m    128\u001b[0m         x[nbr] \u001b[38;5;241m+\u001b[39m\u001b[38;5;241m=\u001b[39m xlast[n] \u001b[38;5;241m*\u001b[39m w\n\u001b[1;32m    129\u001b[0m \u001b[38;5;66;03m# Normalize the vector. The normalization denominator `norm`\u001b[39;00m\n\u001b[1;32m    130\u001b[0m \u001b[38;5;66;03m# should never be zero by the Perron--Frobenius\u001b[39;00m\n\u001b[1;32m    131\u001b[0m \u001b[38;5;66;03m# theorem. However, in case it is due to numerical error, we\u001b[39;00m\n\u001b[1;32m    132\u001b[0m \u001b[38;5;66;03m# assume the norm to be one instead.\u001b[39;00m\n",
      "File \u001b[0;32m~/.local/lib/python3.10/site-packages/networkx/classes/graph.py:513\u001b[0m, in \u001b[0;36mGraph.__getitem__\u001b[0;34m(self, n)\u001b[0m\n\u001b[1;32m    489\u001b[0m \u001b[38;5;28;01mdef\u001b[39;00m \u001b[38;5;21m__getitem__\u001b[39m(\u001b[38;5;28mself\u001b[39m, n):\n\u001b[1;32m    490\u001b[0m \u001b[38;5;250m    \u001b[39m\u001b[38;5;124;03m\"\"\"Returns a dict of neighbors of node n.  Use: 'G[n]'.\u001b[39;00m\n\u001b[1;32m    491\u001b[0m \n\u001b[1;32m    492\u001b[0m \u001b[38;5;124;03m    Parameters\u001b[39;00m\n\u001b[0;32m   (...)\u001b[0m\n\u001b[1;32m    511\u001b[0m \u001b[38;5;124;03m    AtlasView({1: {}})\u001b[39;00m\n\u001b[1;32m    512\u001b[0m \u001b[38;5;124;03m    \"\"\"\u001b[39;00m\n\u001b[0;32m--> 513\u001b[0m     \u001b[38;5;28;01mreturn\u001b[39;00m \u001b[38;5;28;43mself\u001b[39;49m\u001b[38;5;241;43m.\u001b[39;49m\u001b[43madj\u001b[49m\u001b[43m[\u001b[49m\u001b[43mn\u001b[49m\u001b[43m]\u001b[49m\n",
      "File \u001b[0;32m~/.local/lib/python3.10/site-packages/networkx/classes/coreviews.py:81\u001b[0m, in \u001b[0;36mAdjacencyView.__getitem__\u001b[0;34m(self, name)\u001b[0m\n\u001b[1;32m     80\u001b[0m \u001b[38;5;28;01mdef\u001b[39;00m \u001b[38;5;21m__getitem__\u001b[39m(\u001b[38;5;28mself\u001b[39m, name):\n\u001b[0;32m---> 81\u001b[0m     \u001b[38;5;28;01mreturn\u001b[39;00m \u001b[43mAtlasView\u001b[49m\u001b[43m(\u001b[49m\u001b[38;5;28;43mself\u001b[39;49m\u001b[38;5;241;43m.\u001b[39;49m\u001b[43m_atlas\u001b[49m\u001b[43m[\u001b[49m\u001b[43mname\u001b[49m\u001b[43m]\u001b[49m\u001b[43m)\u001b[49m\n",
      "\u001b[0;31mKeyboardInterrupt\u001b[0m: "
     ]
    },
    {
     "data": {
      "image/png": "[encoded data removed]",
      "text/plain": [
       "<Figure size 640x480 with 1 Axes>"
      ]
     },
     "metadata": {},
     "output_type": "display_data"
    }
   ],
   "source": [
    "folder_address = \"./Results/CentralitiesWithinTime/\"\n",
    "for node in important_nodes:\n",
    "    if(node in sushi_graph.crypto_graph.nodes):\n",
    "        sushi_multi_graph.draw_centralities(node, sushi_graph.crypto_graph.nodes[node][\"symbol\"], folder_address)\n",
    "    if(node in uni_graph.crypto_graph.nodes):\n",
    "        uni_multi_graph.draw_centralities(node, uni_graph.crypto_graph.nodes[node][\"symbol\"], folder_address)"
   ]
  },
  {
   "cell_type": "code",
   "execution_count": null,
   "id": "7120d01e",
   "metadata": {},
   "outputs": [],
   "source": [
    "folder_address = \"./Results/CentralitiesWithinTime/\"\n",
    "# should_be_checked = input()\n",
    "symobl = \"\"\n",
    "for node in important_nodes:\n",
    "#     flag = False\n",
    "    if(node in sushi_graph.crypto_graph.nodes):\n",
    "#         if(sushi_graph.crypto_graph.nodes[node][\"symbol\"] == should_be_checked):\n",
    "        sushi_multi_graph.draw_centralities_specific(node, sushi_graph.crypto_graph.nodes[node][\"symbol\"], file_address)\n",
    "        symbol = sushi_graph.crypto_graph.nodes[node][\"symbol\"]\n",
    "#             flag = True\n",
    "    if(node in uni_graph.crypto_graph.nodes):\n",
    "#         if(uni_graph.crypto_graph.nodes[node][\"symbol\"] == should_be_checked):\n",
    "        uni_multi_graph.draw_centralities_specific(node, uni_graph.crypto_graph.nodes[node][\"symbol\"], file_address)\n",
    "        symbol = uni_graph.crypto_graph.nodes[node][\"symbol\"]\n",
    "#             flag = True\n",
    "#     if(flag):\n",
    "    file_address = f\"./Results/CentralitiesWithinTime/{symbol} in Both DEXes.png\"\n",
    "    plt.legend()\n",
    "    plt.savefig(file_address)\n",
    "    plt.gca().cla()"
   ]
  },
  {
   "cell_type": "markdown",
   "id": "20c26e81",
   "metadata": {},
   "source": [
    "<h2><span style=\"color:red\">Wiered Graphs</span></h2>"
   ]
  },
  {
   "cell_type": "code",
   "execution_count": 45,
   "id": "2e793df8",
   "metadata": {},
   "outputs": [
    {
     "name": "stdout",
     "output_type": "stream",
     "text": [
      "{'0xdac17f958d2ee523a2206206994597c13d831ec7': 0.6820855705023369, '0x368b3a58b5f49392e5c9e4c998cb0bb966752e51': 0.5295140029309339, '0xc02aaa39b223fe8d0a0e5c4f27ead9083c756cc2': 0.3860912865639928, '0x4b4d2e899658fb59b1d518b68fe836b100ee8958': 0.2733676563868116, '0x6b3595068778dd592e39a122f4f5a5cf09c90fe2': 0.08642626542821508, '0xa0b86991c6218b36c1d19d4a2e9eb0ce3606eb48': 0.08407968596867757, '0x6b175474e89094c44da98b954eedeac495271d0f': 0.08027040324171807, '0x2260fac5e5542a773aa44fbcfedf7c193bc2c599': 0.05471307774761669, '0x0bc529c00c6401aef6d220be8c6ea1667f6ad93e': 0.040073663796813895, '0x514910771af9ca656af840dff83e8264ecf986ca': 0.027783134415966637, '0xc011a73ee8576fb46f5e1c5751ca3b9fe0af2a6f': 0.02562764080080982, '0xd533a949740bb3306d119cc777fa900ba034cd52': 0.024750764364478504, '0x1f9840a85d5af5bf1d1762f925bdaddc4201f984': 0.02078168206063787, '0x7fc66500c84a76ad7e9c93437bfc5ac33e2ddae9': 0.01966632138129478, '0xe0839f9b9688a77924208ad509e29952dc660261': 0.017436492937335207, '0x1ceb5cb57c4d4e2b2433641b95dd330a33185a44': 0.017291865638720486, '0xc00e94cb662c3520282e6f5717214004a7f26888': 0.016083198234204205, '0x5d8d9f5b96f4438195be9b99eee6118ed4304286': 0.01233216478022048, '0x36f3fd68e7325a35eb768f1aedaae9ea0689d723': 0.012263652753663697, '0x57ab1ec28d129707052df4df418d58a2d46d5f51': 0.010863148868096991, '0x2ba592f78db6436527729929aaf6c908497cb200': 0.010311059996795456, '0xba11d00c5f74255f56a5e366f4f77f5a186d7f55': 0.009231995578526163, '0x591f7038eaac383530d084ce7524f2afcc0f6ea3': 0.008885385320054237, '0x0aacfbec6a24756c20d41914f2caba817c0d8521': 0.008880871442422663, '0x408e41876cccdc0f92210600ef50372656052a38': 0.008675635959253409, '0x584bc13c7d411c00c01a62e8019472de68768430': 0.007958293229229457, '0x04fa0d235c4abf4bcf4787af4cf447de572ef828': 0.006637102572688105, '0x476c5e26a75bd202a9683ffd34359c0cc15be0ff': 0.006465822506296154, '0xb753428af26e81097e7fd17f40c88aaa3e04902c': 0.0052582980382328975, '0x4688a8b1f292fdab17e9a90c8bc379dc1dbd8713': 0.005224042024954508, '0x5dbcf33d8c2e976c6b560249878e6f1491bca25c': 0.00502830085457226, '0xe28b3b32b6c345a34ff64674606124dd5aceca30': 0.0046416897992218745, '0x71b6296174c5f07d37cafd6e9b72ab5bb3f14fac': 0.004498482990441851, '0xa1faa113cbe53436df28ff0aee54275c13b40975': 0.004461845729510325, '0xd26114cd6ee289accf82350c8d8487fedb8a0c07': 0.004085029583448033, '0x8ab7404063ec4dbcfd4598215992dc3f8ec853d7': 0.0033142704820425493, '0x07150e919b4de5fd6a63de1f9384828396f25fdc': 0.0030744771917355215, '0xd46ba6d942050d489dbd938a2c909a5d5039a161': 0.003040221178457132, '0xa47c8bf37f92abed4a126bda807a7b7498661acd': 0.002980273155219949, '0x3e9bc21c9b189c09df3ef1b824798658d5011937': 0.0027939035604388194, '0xd3dd721b74d72f29677a94c4b318f16a7f7426bc': 0.0026548733339713006, '0x875773784af8135ea0ef43b5a374aad105c5d39e': 0.002586757075748854, '0x8888801af4d980682e47f1a9036e589479e835c5': 0.002577764999198864, '0x3c9d6c1c73b31c837832c72e04d3152f051fc1a9': 0.0023551009128893272, '0xa8e7ad77c60ee6f30bac54e2e7c0617bd7b5a03e': 0.0021666928398581813, '0x74159651a992952e2bf340d7628459aa4593fc05': 0.0020810528066622057, '0x80fb784b7ed66730e8b1dbd9820afd29931aab03': 0.001807004700435084, '0xa117000000f279d81a1d3cc75430faa017fa5a2e': 0.0016699806473215232, '0xf8c3527cc04340b208c854e985240c02f7b7793f': 0.0016199033100651847, '0xbd2f0cd039e0bfcf88901c98c0bfac5ab27566e3': 0.0016091781862887756, '0x8a9c67fee641579deba04928c4bc45f66e26343a': 0.00157577661080595, '0x5bc25f649fc4e26069ddf4cf4010f9f706c23831': 0.0015500846008471574, '0x9d47894f8becb68b9cf3428d256311affe8b068b': 0.001498700580929572, '0x0d438f3b5175bebc262bf23753c1e53d03432bde': 0.0013359845178572184, '0x1494ca1f11d487c2bbe4543e90080aeba4ba3c2b': 0.001327420514537621, '0x0954906da0bf32d5479e25f46056d22f08464cab': 0.0013188565112180234, '0x0202be363b8a4820f3f4de7faf5224ff05943ab1': 0.0011989604647436576, '0xca3fe04c7ee111f0bbb02c328c699226acf9fd33': 0.0011903964614240602, '0x3472a5a71965499acd81997a54bba8d852c6e53d': 0.0011902337330749798, '0x26cf82e4ae43d31ea51e72b663d26e26a75af729': 0.0009934243850733162, '0xcaaa93712bdac37f736c323c93d4d5fdefcc31cc': 0.0008221524124236226, '0x557b933a7c2c45672b610f8954a3deb39a51a8ca': 0.0008221443186813653, '0x93ed3fbe21207ec2e8f2d3c3de6e058cb73bc04d': 0.0007793243020833774, '0x7ca4408137eb639570f8e647d9bd7b7e8717514a': 0.00077076029876378, '0x903bef1736cddf2a537176cf3c64579c3867a881': 0.00077076029876378, '0xb4bebd34f6daafd808f73de0d10235a92fbb6c3d': 0.0007621962954441824, '0x50d1c9771902476076ecfc8b2a83ad6b9355a4c9': 0.0007536322921245849, '0x38e4adb44ef08f22f5b5b76a8f0c2d0dcbe7dca1': 0.0007450682888049873, '0x948a9bb69d1d1202c160d26804aefff0634a492e': 0.0006923770657680289, '0x1f3f9d3068568f8040775be2e8c03c103c61f3af': 0.0006851202655678043, '0x20c36f062a31865bed8a5b1e512d9a1a20aa333a': 0.0006594282556090117, '0x429881672b9ae42b8eba0e26cd9c73711b891ca5': 0.0006594282556090117, '0x92b914f1ddcbb1d117a718e83c9ed7eb32fc44d1': 0.000633736245650219, '0xbc396689893d065f41bc2c6ecbee5e0085233447': 0.0006251722423306215, '0xdbdd6f355a37b94e6c7d32fef548e98a280b8df5': 0.0006080442356914263, '0x17525e4f4af59fbc29551bc4ece6ab60ed49ce31': 0.0005994802323718288, '0xe4ae84448db5cfe1daf1e6fb172b469c161cb85f': 0.0005309682058150483, '0xef9cd7882c067686691b6ff49e650b43afbbcc6b': 0.0005224042024954508, '0x8762db106b2c2a0bccb3a80d1ed41273552616e8': 0.0005138401991758533, '0xff20817765cb7f73d4bde2e66e067e58d11095c2': 0.0005138401991758533, '0x4c19596f5aaff459fa38b0f7ed92f11ae6543784': 0.0004196361626602802, '0xcbc1065255cbc3ab41a6868c22d1f1c573ab89fd': 0.0003939441527014875, '0x87edffde3e14c7a66c9b9724747a1c5696b742e6': 0.00037681614606229245, '0x3108ccfd96816f9e663baa0e8c5951d229e8c6da': 0.00036825214274269485, '0x94193e30371d1568f9bd536df955716d9a5bca06': 0.0003511241361034997, '0x8564653879a18c560e7c0ea0e084c516c62f5653': 0.00030830411950551195, '0xad32a8e6220741182940c5abf610bde99e737b2d': 0.0002997401161859144, '0x9d4aa5600e0c8c2085bb82d946ca6642742a8250': 0.0002997401161859144, '0x78f225869c08d478c34e5f645d07a87d3fe8eb78': 0.00028261210954671925, '0x8064d9ae6cdf087b1bcd5bdf3531bd5d8c537a68': 0.00028261210954671925, '0x26c7d50b9f372e1fa9ca078cc054298f36d68b17': 0.00027404810622712176, '0x054d64b73d3d8a21af3d764efd76bcaa774f3bb2': 0.00026088350680642837, '0x3a880652f47bfaa771908c07dd8673a787daed3a': 0.00025940869120500516, '0x8798249c2e607446efb7ad49ec89dd1865ff4272': 0.0002588112329632668, '0xfca59cd816ab1ead66534d82bc21e7515ce441cf': 0.0002397920929487315, '0x2a8e1e676ec238d8a992307b495b45b3feaa5e86': 0.00023019132953508388, '0x44ea84a85616f8e9cd719fc843de31d852ad7240': 0.00022752630665557098, '0xe4f726adc8e89c6a6017f01eada77865db22da14': 0.00022266408630953642, '0xaba8cac6866b83ae4eec97dd07ed254282f6ad8a': 0.00022266408630953642, '0x81a0baec267f9fb2b4ba9ab743ee586e2371916f': 0.00022206829825355671, '0xf3504e1ac58e333f013f1595c435c9ebefd47ede': 0.00020539397739865396, '0xade00c28244d5ce17d72e40330b1c318cd12b7c3': 0.00019697207635074374, '0x837010619aeb2ae24141605afc8f66577f6fb2e7': 0.00019697207635074374, '0xb72c84a9084b21b3fd10ca41661fb7538cea7b56': 0.00018840807303114622, '0x41c028a4c1f461ebfc3af91619b240004ebad216': 0.00017988106253370159, '0x111111111117dc0aa78b770fa6a738034120c302': 0.00017133357554575013, '0xa283aa7cfbb27ef0cfbcb2493dd9f4330e0fd304': 0.00016971849904233804, '0x11980d4bb4465cb4fc77a57b98a16787b3d834e7': 0.0001074226204497058, '0x5a98fcbea516cf06857215779fd812ca3bef1b32': 0.00010276803983517066, '0xedeec5691f23e4914cf0183a4196bbeb30d027a0': 9.420403651557311e-05, '0x6102407f07029892eb5ff02164adfafb85f4d222': 9.207653181403356e-05, '0xf5d669627376ebd411e34b98f19c868c8aba5ada': 7.707602987637799e-05, '0x24ea9c1cfd77a8db3fb707f967309cf013cc1078': 6.851202655678044e-05, '0x14f0a12a43c36c49d4b403dd6e1a9b8222be456c': 6.511011185096956e-05, '0x580c8520deda0a441522aeae0f9f7a5f29629afa': 6.138435454268902e-05, '0x543ff227f64aa17ea132bf9886cab5db55dcaddf': 5.994802323718288e-05, '0xf970b8e36e23f7fc3fd752eea86f8be8d83375a6': 5.994802323718288e-05, '0xd5525d397898e5502075ea5e830d8914f6f0affe': 5.138401991758533e-05, '0xf67041758d3b6e56d6fdafa5b32038302c3634da': 5.138401991758533e-05, '0x914f79f4fdffe98a68b10b8327f7a571fa36405d': 5.138401991758533e-05, '0xb6ed7644c69416d67b522e20bc294a9a9b405b31': 4.282001659798777e-05, '0x7240ac91f01233baaf8b064248e80feaa5912ba3': 4.282001659798777e-05, '0xa1d6df714f91debf4e0802a542e13067f31b8262': 4.282001659798777e-05, '0x110492b31c59716ac47337e616804e3e3adc0b4a': 4.282001659798777e-05, '0xa0b73e1ff0b80914ab6fe0444e65848c4c34450b': 3.425601327839022e-05, '0x0dbb4b96a23ea7943bb72a8f16cc2c248f372935': 3.425601327839022e-05, '0xa1afffe3f4d611d252010e3eaf6f4d77088b0cd7': 3.425601327839022e-05, '0xea319e87cf06203dae107dd8e5672175e3ee976c': 3.425601327839022e-05, '0x1efb2286bf89f01488c6b2a22b2556c0f45e972b': 2.997401161859144e-05, '0x0ae055097c6d159879521c384f1d2123d1f195e6': 2.6159537149874166e-05, '0xc9cb53b48a2f3a9e75982685644c1870f1405ccb': 2.569518259104255e-05, '0x066f3a3b7c8fa077c71b9184d862ed0a4d5cf3e0': 2.569518259104255e-05, '0x26d8151e631608570f3c28bec769c3afee0d73a3': 2.569518259104255e-05, '0x107c4504cd79c5d2696ea0030a8dd4e92601b82e': 2.5692009958792665e-05, '0x4cc19356f2d37338b9802aa8e8fc58b0373296e7': 2.5692009958792665e-05, '0x08d967bb0134f2d07f7cfb6e246680c53927dd30': 2.5692009958792665e-05, '0xedf6568618a00c6f0908bf7758a16f76b6e04af9': 2.5692009958792665e-05, '0x40fd72257597aa14c7231a7b1aaa29fce868f677': 2.5692009958792665e-05, '0x850fe284f917eb6dfcfe452348bead903aa63073': 2.3501512219605846e-05, '0xd3f85d18206829f917929bbbf738c1e0ce9af7fc': 1.7351695519363955e-05, '0x088ee5007c98a9677165d78dd2109ae4a3d04d0c': 1.7131179271444995e-05, '0x18aaa7115705e8be94bffebde57af9bfc265b998': 1.712800663919511e-05, '0x0d8775f648430679a709e98d2b0cb6250d2887ef': 1.712800663919511e-05, '0x44bcd5471f6062739d3d4a7b99992723e94b2246': 1.712800663919511e-05, '0x3f382dbd960e3a9bbceae22651e88158d2791550': 1.712800663919511e-05, '0x67c597624b17b16fb77959217360b7cd18284253': 1.712800663919511e-05, '0xad5fe5b0b8ec8ff4565204990e4405b2da117d8e': 1.712800663919511e-05, '0xce9afaf5b0da6ce0366ab40435a48ccff65d2ed7': 1.712800663919511e-05, '0xd234bf2410a0009df9c3c63b610c09738f18ccd7': 1.712800663919511e-05, '0xeeeeeeeee2af8d0e1940679860398308e0ef24d6': 1.712800663919511e-05, '0xc0eb85285d83217cd7c891702bcbc0fc401e2d9d': 1.712800663919511e-05, '0xe4815ae53b124e7263f08dcdbbb757d41ed658c6': 1.712800663919511e-05, '0x6b51beeaa7d6704d48d088ec95735e21459385f0': 1.712800663919511e-05, '0x435d0ca4d455209dc9b53f09acdb8d5d761df423': 1.712800663919511e-05, '0x9bde098be22658d057c3f1f185e3fd4653e2fbd1': 1.5550714438061407e-05, '0x3e3cda3218212503883c79f6d2feef29e6bbb87d': 1.5346088635672256e-05, '0xc88f47067db2e25851317a2fdae73a22c0777c37': 1.4770871621942276e-05, '0x739763a258640919981f9ba610ae65492455be53': 1.3606875133303731e-05, '0x8daebade922df735c38c80c7ebd708af50815faa': 9.794909288092746e-06, '0xeb4c2781e4eba804ce9a9803c67d0893436bb27d': 8.864599820684282e-06, '0x397ff1542f962076d0bfe58ea045ffa2d347aca0': 8.565060863680849e-06, '0x668dbf100635f593a3847c0bdaf21f0a09380188': 8.564003319597555e-06, '0x20bf12a7bdb6d7b84069fb3b939892a301c981d1': 8.564003319597555e-06, '0xa67e83917b438e11a58f119a2bd9cc5daab86041': 8.564003319597555e-06, '0x0698dda3c390ff92722f9eed766d8b1727621df9': 8.564003319597555e-06, '0xa0246c9032bc3a600820415ae600c6388619a14d': 8.564003319597555e-06, '0x79e9110da35febc60220d7be868a698b44a50359': 8.564003319597555e-06, '0x56b4f8c39e07d4d5d91692acf9d0f6d4d3493763': 8.564003319597555e-06, '0x6a6d430573d3f070aeab97b3a189d698ea130454': 8.564003319597555e-06, '0xe48972fcd82a274411c01834e2f031d4377fa2c0': 8.564003319597555e-06, '0x988dadd0b82fa7d94d9e6f084a08755bfd4da860': 8.564003319597555e-06, '0x6c4b85cab20c13af72766025f0e17e0fe558a553': 8.564003319597555e-06, '0x18cc17a1eed37c02a77b0b96b7890c7730e2a2cf': 6.875546718610167e-06, '0x1864ce27e9f7517047933caae530674e8c70b8a7': 5.417293015608833e-06, '0x5d3a536e4d6dbd6114cc1ead35777bab948e3643': 5.417293015608833e-06, '0xed0439eacf4c4965ae4613d77a5c2efe10e5f183': 3.887678609515352e-06, '0x6e1a19f235be7ed8e3369ef73b196c07257494de': 3.7822667506803602e-06, '0x4a64515e5e1d1073e83f30cb97bed20400b66e10': 3.7822667506803602e-06, '0x783ba0062326861ee76e0e15429594922e9fe2f5': 1.943839304757676e-06, '0x0000000000085d4780b73119b644ae5ecd22b376': 3.005965010867274e-07, '0xfb3cd0b8a5371fe93ef92e3988d30df7931e2820': 2.982518402251313e-07, '0x68a118ef45063051eac49c7e647ce5ace48a68a5': 2.443934058724896e-07, '0xf09a190203d7cad3cdb43ee281e29b947cb1c16f': 0.0, '0xbf66e58702e87271c0c5260f5f7da2f8283bff37': 0.0}\n",
      "[('USDT', 0.6820855705023369), ('MIC', 0.5295140029309339), ('WETH', 0.3860912865639928), ('MIS', 0.2733676563868116), ('SUSHI', 0.08642626542821508), ('USDC', 0.08407968596867757), ('DAI', 0.08027040324171807), ('WBTC', 0.05471307774761669), ('YFI', 0.040073663796813895), ('LINK', 0.027783134415966637), ('SNX', 0.02562764080080982), ('CRV', 0.024750764364478504), ('UNI', 0.02078168206063787), ('AAVE', 0.01966632138129478), ('yCREDIT', 0.017436492937335207), ('KP3R', 0.017291865638720486), ('COMP', 0.016083198234204205), ('COVER', 0.01233216478022048), ('ESD', 0.012263652753663697), ('sUSD', 0.010863148868096991), ('CREAM', 0.010311059996795456), ('BAND', 0.009231995578526163), ('DCC', 0.008885385320054237), ('YAM', 0.008880871442422663), ('REN', 0.008675635959253409), ('HEGIC', 0.007958293229229457), ('UMA', 0.006637102572688105), ('SRM', 0.006465822506296154), ('SFI', 0.0052582980382328975), ('COVER', 0.005224042024954508), ('yyDAI+yUSDC+yUSDT+yTUSD', 0.00502830085457226), ('INJ', 0.0046416897992218745), ('Xi', 0.004498482990441851), ('ALPHA', 0.004461845729510325), ('OMG', 0.004085029583448033), ('AKRO', 0.0033142704820425493), ('BASE', 0.0030744771917355215), ('AMPL', 0.003040221178457132), ('UST', 0.002980273155219949), ('LINA', 0.0027939035604388194), ('DCS', 0.0026548733339713006), ('IDLE', 0.002586757075748854), ('MPH', 0.002577764999198864), ('BOR', 0.0023551009128893272), ('zLOT', 0.0021666928398581813), ('TEN', 0.0020810528066622057), ('LEND', 0.001807004700435084), ('ANT', 0.0016699806473215232), ('FRONT', 0.0016199033100651847)]\n"
     ]
    }
   ],
   "source": [
    "sushi_wierd_graph = sushi_multi_graph.graphs[30]\n",
    "eigen_vec = sushi_wierd_graph.get_eigen_centrality()\n",
    "eigen_vec = sushi_wierd_graph.get_reversed_sorted_ranks(eigen_vec)\n",
    "print(eigen_vec)\n",
    "eigen_vec = sushi_wierd_graph.change_ranks_with_symbol(eigen_vec)\n",
    "rank_sushi = sushi_wierd_graph.get_top_ranks(eigen_vec, 50)\n",
    "print(rank_sushi)"
   ]
  },
  {
   "cell_type": "code",
   "execution_count": 33,
   "id": "8e677605",
   "metadata": {},
   "outputs": [
    {
     "name": "stdout",
     "output_type": "stream",
     "text": [
      "[11766203.64, 11816361.1]\n"
     ]
    }
   ],
   "source": [
    "print(get_block_range(34))"
   ]
  },
  {
   "cell_type": "code",
   "execution_count": 158,
   "id": "d83a78cc",
   "metadata": {},
   "outputs": [
    {
     "data": {
      "text/plain": [
       "[('WETH', 184464),\n",
       " ('USDT', 27651),\n",
       " ('COVER', 21576),\n",
       " ('USDC', 21042),\n",
       " ('SUSHI', 18035),\n",
       " ('DAI', 15740),\n",
       " ('YFI', 10720),\n",
       " ('SNX', 9986),\n",
       " ('WBTC', 9702),\n",
       " ('LINK', 8340),\n",
       " ('DSD', 4028),\n",
       " ('KP3R', 3524),\n",
       " ('UNI', 3199),\n",
       " ('UMA', 2968),\n",
       " ('AAVE', 2610),\n",
       " ('CRV', 2500),\n",
       " ('COMP', 2324),\n",
       " ('REN', 2268),\n",
       " ('sUSD', 1858)]"
      ]
     },
     "execution_count": 158,
     "metadata": {},
     "output_type": "execute_result"
    }
   ],
   "source": [
    "degree_list = dict(sushi_wierd_graph.crypto_graph.degree(weight = 'weight'))\n",
    "degree_list = sushi_wierd_graph.get_reversed_sorted_ranks(degree_list)\n",
    "degree_list = sushi_wierd_graph.change_ranks_with_symbol(degree_list)\n",
    "sushi_wierd_graph.get_top_ranks(degree_list, 20)"
   ]
  },
  {
   "cell_type": "code",
   "execution_count": 23,
   "id": "ea2ef6fa",
   "metadata": {},
   "outputs": [
    {
     "name": "stdout",
     "output_type": "stream",
     "text": [
      "['0xc02aaa39b223fe8d0a0e5c4f27ead9083c756cc2', '0xa0b86991c6218b36c1d19d4a2e9eb0ce3606eb48', '0xdac17f958d2ee523a2206206994597c13d831ec7', '0x6b175474e89094c44da98b954eedeac495271d0f', '0x2260fac5e5542a773aa44fbcfedf7c193bc2c599', '0x1f9840a85d5af5bf1d1762f925bdaddc4201f984', '0x374cb8c27130e2c9e04f44303f3c8351b9de61c1', '0x1337def16f9b486faed0293eb623dc8395dfe46a', '0x8c8687fc965593dfb2f0b4eaefd55e9d8df348df', '0x3c03b4ec9477809072ff9cc9292c9b25d4a8e6c6', '0x3472a5a71965499acd81997a54bba8d852c6e53d', '0x220b71671b649c03714da9c621285943f3cbcdc6', '0x514910771af9ca656af840dff83e8264ecf986ca', '0x00a8b738e453ffd858a7edf03bccfe20412f0eb0', '0x0d6ae2a429df13e44a07cd2969e085e4833f64a0', '0xa4eed63db85311e22df4473f87ccfc3dadcfa3e3', '0x798d1be841a82a273720ce31c822c61a67a601c3', '0x73968b9a57c6e53d41345fd57a6e6ae27d6cdb2f', '0x0b38210ea11411557c13457d4da7dc6ea731b88a', '0x83e6f1e41cdd28eaceb20cb649155049fac3d5aa']\n"
     ]
    },
    {
     "data": {
      "text/plain": [
       "[('WETH', 0.9807606133641068),\n",
       " ('USDC', 0.1308619393493844),\n",
       " ('USDT', 0.0946575713729435),\n",
       " ('DAI', 0.07609546250717358),\n",
       " ('WBTC', 0.04435453967801756),\n",
       " ('UNI', 0.021295767511299885),\n",
       " ('BAO', 0.01719821055656339),\n",
       " ('ARMOR', 0.014018549347886714),\n",
       " ('PAID', 0.012945309883228142),\n",
       " ('CVR', 0.0122921823619498),\n",
       " ('BADGER', 0.010837911134690549),\n",
       " ('DIS', 0.010706992529079033),\n",
       " ('LINK', 0.010688429443208745),\n",
       " ('ALBT', 0.010140818410035207),\n",
       " ('PBR', 0.0095023459565492),\n",
       " ('RBC', 0.008968412986648508),\n",
       " ('DIGG', 0.008832609358439549),\n",
       " ('SDT', 0.008717322825139854),\n",
       " ('API3', 0.008669449603684898),\n",
       " ('POLS', 0.0083431300941756),\n",
       " ('ALPHA', 0.00800215551687397),\n",
       " ('ROOK', 0.00778428350902794),\n",
       " ('DSD', 0.007667042966689271),\n",
       " ('BBP', 0.007647502876299492),\n",
       " ('MIR', 0.007546871410792134),\n",
       " ('UST', 0.007189287756659192),\n",
       " ('RAMP', 0.006871761287825292),\n",
       " ('AAVE', 0.006653889279979266),\n",
       " ('MPH', 0.006546418782835483),\n",
       " ('ARTH', 0.006415500177223968),\n",
       " ('DAIQ', 0.006327569770469966),\n",
       " ('CRV', 0.006045703966597413),\n",
       " ('BIRD', 0.005858607601115286),\n",
       " ('INFI', 0.005813665393218796),\n",
       " ('ELE', 0.005749671597192273),\n",
       " ('FRAX', 0.0056993558644385925),\n",
       " ('PRQ', 0.005561598227190656),\n",
       " ('SNX', 0.005452662223267642),\n",
       " ('SNOW', 0.005445334689371474),\n",
       " ('FXS', 0.005178612455551001),\n",
       " ('NDX', 0.005151744831265056),\n",
       " ('ZERO', 0.005057463895134375),\n",
       " ('LON', 0.0049998206284845295),\n",
       " ('PHA', 0.004788787652274923),\n",
       " ('CEL', 0.004780971616119012),\n",
       " ('POOLZ', 0.004696949227442965),\n",
       " ('MTA', 0.004639305960793119),\n",
       " ('GRT', 0.004578731680584807),\n",
       " ('DPI', 0.00431396345580331)]"
      ]
     },
     "execution_count": 23,
     "metadata": {},
     "output_type": "execute_result"
    }
   ],
   "source": [
    "uni_wierd_graph = uni_multi_graph.graphs[33]\n",
    "eigen_vec = uni_wierd_graph.get_eigen_centrality()\n",
    "eigen_vec = uni_wierd_graph.get_reversed_sorted_ranks(eigen_vec)\n",
    "print(list(eigen_vec)[0:20])\n",
    "eigen_vec = uni_wierd_graph.change_ranks_with_symbol(eigen_vec)\n",
    "uni_wierd_graph.get_top_ranks(eigen_vec, 50)"
   ]
  },
  {
   "cell_type": "markdown",
   "id": "7d475a4e",
   "metadata": {},
   "source": [
    "<h2><span style=\"color:red\">Degree Weight Distribution</span></h2>"
   ]
  },
  {
   "cell_type": "code",
   "execution_count": 12,
   "id": "ce90a8cc",
   "metadata": {},
   "outputs": [
    {
     "ename": "NameError",
     "evalue": "name 'uni_graph' is not defined",
     "output_type": "error",
     "traceback": [
      "\u001b[0;31m---------------------------------------------------------------------------\u001b[0m",
      "\u001b[0;31mNameError\u001b[0m                                 Traceback (most recent call last)",
      "Cell \u001b[0;32mIn [12], line 1\u001b[0m\n\u001b[0;32m----> 1\u001b[0m degree_list \u001b[38;5;241m=\u001b[39m \u001b[38;5;28mdict\u001b[39m(\u001b[43muni_graph\u001b[49m\u001b[38;5;241m.\u001b[39mcrypto_graph\u001b[38;5;241m.\u001b[39mdegree(weight \u001b[38;5;241m=\u001b[39m \u001b[38;5;124m'\u001b[39m\u001b[38;5;124mweight\u001b[39m\u001b[38;5;124m'\u001b[39m))\n\u001b[1;32m      2\u001b[0m degree_list \u001b[38;5;241m=\u001b[39m uni_graph\u001b[38;5;241m.\u001b[39mget_reversed_sorted_ranks(degree_list)\n\u001b[1;32m      3\u001b[0m degree_list \u001b[38;5;241m=\u001b[39m uni_graph\u001b[38;5;241m.\u001b[39mchange_ranks_with_symbol(degree_list)\n",
      "\u001b[0;31mNameError\u001b[0m: name 'uni_graph' is not defined"
     ]
    }
   ],
   "source": [
    "degree_list = dict(uni_graph.crypto_graph.degree(weight = 'weight'))\n",
    "degree_list = uni_graph.get_reversed_sorted_ranks(degree_list)\n",
    "degree_list = uni_graph.change_ranks_with_symbol(degree_list)\n",
    "degree_list = [x[1] for x in degree_list]\n",
    "count_degree = uni_graph.get_count_deg(degree_list)\n",
    "print(count_degree)"
   ]
  },
  {
   "cell_type": "code",
   "execution_count": 47,
   "id": "3b5d3d89",
   "metadata": {},
   "outputs": [
    {
     "data": {
      "image/png": "[encoded data removed]",
      "text/plain": [
       "<Figure size 640x480 with 1 Axes>"
      ]
     },
     "metadata": {},
     "output_type": "display_data"
    },
    {
     "data": {
      "image/png": "[encoded data removed]",
      "text/plain": [
       "<Figure size 640x480 with 1 Axes>"
      ]
     },
     "metadata": {},
     "output_type": "display_data"
    }
   ],
   "source": [
    "degree_list = dict(sushi_graph.crypto_graph.degree(weight = 'weight'))\n",
    "degree_list = sushi_graph.get_reversed_sorted_ranks(degree_list)\n",
    "degree_list = sushi_graph.change_ranks_with_symbol(degree_list)\n",
    "degree_list = [x[1] for x in degree_list]\n",
    "count_degree = sushi_graph.get_count_deg(degree_list)\n",
    "# count_degree = [(x[1], x[0]) for x in count_degree]\n",
    "sushi_graph.plot_degree(count_degree)\n",
    "sushi_graph.plot_log_degree(count_degree)"
   ]
  },
  {
   "cell_type": "markdown",
   "id": "b3d178ea",
   "metadata": {},
   "source": []
  }
 ],
 "metadata": {
  "kernelspec": {
   "display_name": "Python 3 (ipykernel)",
   "language": "python",
   "name": "python3"
  },
  "language_info": {
   "codemirror_mode": {
    "name": "ipython",
    "version": 3
   },
   "file_extension": ".py",
   "mimetype": "text/x-python",
   "name": "python",
   "nbconvert_exporter": "python",
   "pygments_lexer": "ipython3",
   "version": "3.10.7"
  }
 },
 "nbformat": 4,
 "nbformat_minor": 5
}
