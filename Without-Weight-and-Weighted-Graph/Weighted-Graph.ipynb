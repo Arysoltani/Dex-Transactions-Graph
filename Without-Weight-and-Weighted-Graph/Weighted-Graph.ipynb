{
 "cells": [
  {
   "cell_type": "code",
   "execution_count": 3,
   "id": "6bde8cc5",
   "metadata": {},
   "outputs": [],
   "source": [
    "import networkx as nx\n",
    "import pandas as pd\n",
    "import csv        \n",
    "import numpy as np\n",
    "import matplotlib.pyplot as plt"
   ]
  },
  {
   "cell_type": "code",
   "execution_count": 4,
   "id": "95e714f3",
   "metadata": {},
   "outputs": [],
   "source": [
    "class DexPools:\n",
    "    \n",
    "    def __init__(self, file_path, dex_name):\n",
    "        \n",
    "        self.df_pools = pd.read_csv(file_path)\n",
    "        self.name = dex_name\n",
    "    \n",
    "    def filter_first_blocks(self, pools_inp, block_first, block_last):\n",
    "        df_pools_out = pools_inp.replace(np.nan, -1)\n",
    "        df_pools_out = df_pools_out.astype({\"FirstBlock\":\"int\",\"LastBlock\":\"int\"})\n",
    "        df_pools_out = df_pools_out[df_pools_out.FirstBlock >= block_first]\n",
    "        df_pools_out = df_pools_out[df_pools_out.FirstBlock <= block_last]\n",
    "        return df_pools_out\n",
    "    \n",
    "    def filter_last_blocks(self, pools_inp, block_first, block_last):\n",
    "        df_pools_out = pools_inp.replace(np.nan, -1)\n",
    "        df_pools_out = df_pools_out.astype({\"FirstBlock\":\"int\",\"LastBlock\":\"int\"})\n",
    "        df_pools_out = df_pools_out[df_pools_out.LastBlock >= block_first]\n",
    "        df_pools_out = df_pools_out[df_pools_out.LastBlock <= block_last]\n",
    "        return df_pools_out\n",
    "    \n",
    "    def filter_count(self, pools_inp, cnt_min, cnt_max):\n",
    "        df_pools_out = pools_inp.replace(np.nan, -1)\n",
    "        df_pools_out = df_pools_out.astype({\"CntTransfer\":\"int\"})\n",
    "        df_pools_out = df_pools_out[df_pools_out.CntTransfer >= cnt_min]\n",
    "        df_pools_out = df_pools_out[df_pools_out.CntTransfer <= cnt_max]\n",
    "        return df_pools_out\n",
    "    \n",
    "    def find_lost_pools(self):\n",
    "        df_pools_out = self.filter_count(self.df_pools, 100000, 10000000000)\n",
    "        df_pools_out = self.filter_last_blocks(df_pools_out, 0, 14500000)\n",
    "        return df_pools_out\n",
    "    \n",
    "    def get_edge_cnt(self, token1, token2):\n",
    "        df_pools = self.df_pools[self.df_pools.AddressToken0 == token1]\n",
    "        df_pools = df_pools[df_pools.AddressToken1 == token2]\n",
    "        if(len(df_pools) == 0):\n",
    "            return None\n",
    "        else:\n",
    "            return df_pools.iloc[0]['CntTransfer']"
   ]
  },
  {
   "cell_type": "code",
   "execution_count": 5,
   "id": "c4a5edee",
   "metadata": {},
   "outputs": [],
   "source": [
    "COLUMN_NAME = [\"AddressToken0\",\"AddressToken1\"]\n",
    "\n",
    "class WeightedDexGraph:\n",
    "\n",
    "    def __init__(self, df_pools, name):\n",
    "        \n",
    "        self.crypto_graph = nx.Graph()\n",
    "        self.name = name\n",
    "        \n",
    "        symbol = []\n",
    "        \n",
    "        nx.set_node_attributes(self.crypto_graph, symbol, \"symbol\")\n",
    "\n",
    "        for row in df_pools.index:\n",
    "                \n",
    "            sell_token = df_pools['AddressToken0'][row]\n",
    "            buy_token = df_pools['AddressToken1'][row]\n",
    "            \n",
    "            count_transfer = df_pools['CntTransfer'][row]\n",
    "            \n",
    "            self.add_node(self.crypto_graph, buy_token)\n",
    "            self.add_node(self.crypto_graph, sell_token)\n",
    "            \n",
    "            sell_symbol = df_pools['SymbolToken0'][row]\n",
    "            buy_symbol = df_pools['SymbolToken1'][row]\n",
    "                        \n",
    "            self.crypto_graph.nodes[sell_token][\"symbol\"] = sell_symbol\n",
    "            self.crypto_graph.nodes[buy_token][\"symbol\"] = buy_symbol\n",
    "            \n",
    "            if(not(self.crypto_graph.has_edge(buy_token, sell_token))):\n",
    "                self.crypto_graph.add_edge(buy_token, sell_token, weight = count_transfer)\n",
    "                \n",
    "    def get_eigen_centrality(self):\n",
    "        \n",
    "        eigen_centrality = nx.eigenvector_centrality(self.crypto_graph,weight = 'weight', max_iter = 1000) \n",
    "        return eigen_centrality\n",
    "    \n",
    "    def get_reversed_sorted_ranks(self, dict_ranks):\n",
    "        \n",
    "        dict_ans = dict(sorted(dict_ranks.items(), key = lambda x:-1 * x[1]))\n",
    "        return dict_ans\n",
    "    \n",
    "    def change_ranks_with_symbol(self, dict_ranks):\n",
    "        \n",
    "        dict_ans = [(self.crypto_graph.nodes[key][\"symbol\"], value) \n",
    "                        for (key, value) in dict_ranks.items()]\n",
    "        return dict_ans\n",
    "    \n",
    "    def get_top_ranks(self, rank_inp, number_of_tokens):\n",
    "        return rank_inp[0:number_of_tokens - 1]\n",
    "        \n",
    "    def get_page_rank(self):\n",
    "        \n",
    "        page_rank = nx.pagerank(self.crypto_graph,weight = 'weight', max_iter = 1000, alpha=0.9)\n",
    "        return page_rank\n",
    "    \n",
    "    \n",
    "    \n",
    "    def get_degree(self, node_name):\n",
    "        if(not self.crypto_graph.has_node(node_name)):\n",
    "            return 0\n",
    "        return self.crypto_graph.degree[node_name]\n",
    "\n",
    "    def add_node(self, graph_input, token_input):\n",
    "        if(not graph_input.has_node(token_input)):\n",
    "            graph_input.add_node(token_input)\n",
    "    \n",
    "    def get_list_degree(self):\n",
    "        degree_node_list = self.crypto_graph.degree()\n",
    "        degree_list = [deg[1] for deg in degree_node_list]\n",
    "        degree_list.sort()\n",
    "        return degree_list\n",
    "\n",
    "    def print(self, file_path_output):\n",
    "        graph_file = open(file_path_output, 'w')\n",
    "        graph_writer = csv.writer(graph_file)\n",
    "        graph_writer.writerow(COLUMN_NAME)\n",
    "        for edge in self.crypto_graph.edges:\n",
    "             graph_writer.writerow(edge)\n",
    "\n",
    "    def get_best_vertices(self, num):\n",
    "        degree_node_list = self.crypto_graph.degree()\n",
    "        degree_node = sorted(degree_node_list, key = lambda vertex: vertex[1])    \n",
    "        return degree_node\n",
    "    \n",
    "    def get_count_deg(self, degree_list):\n",
    "        count_deg = [(num, degree_list.count(num)) for num in degree_list]\n",
    "        count_deg = [*set(count_deg)]\n",
    "        count_deg = sorted(count_deg, key = lambda x: x[0])\n",
    "        return count_deg\n",
    "    \n",
    "    def draw_plot_degree(self, degree_list, flag = False):\n",
    "        \n",
    "        count_deg = self.get_count_deg(degree_list)\n",
    "        \n",
    "        x = np.array([tmp[1] for tmp in count_deg])\n",
    "        y = -0.8435 * x + 4.6\n",
    "        print(x, y)\n",
    "\n",
    "        plt.xscale('log')\n",
    "        plt.yscale('log')\n",
    "        plt.plot([tmp[1] for tmp in count_deg], [tmp[0] for tmp in count_deg])\n",
    "        if(flag):\n",
    "            plt.xlabel(\"Log Count Nodes\")\n",
    "            plt.ylabel(\"Log Degree\")\n",
    "            plt.show()\n",
    " \n",
    "        plt.plot(x, y)\n",
    "        plt.ylabel(\"Log Count Nodes\")\n",
    "        plt.xlabel(\"Log Degree\")\n",
    "        plt.title(f\"{self.name} Log Log plot\")\n",
    "        \n",
    "        plt.show()\n",
    "    \n",
    "    def print_info(self, is_avg_clustering = True, is_plot = True, is_page_rank = True,\n",
    "            is_betweeness = False, is_eigen = False, is_closeness = False):\n",
    "        \n",
    "        print(f\"Number of Nodes {self.name} is: \", self.crypto_graph.number_of_nodes())\n",
    "        print(f\"Number of Edges {self.name} is: \", self.crypto_graph.number_of_edges())\n",
    "        print(f\"Average Degree {self.name} is: \", (self.crypto_graph.number_of_edges() * 2) \n",
    "      / self.crypto_graph.number_of_nodes())\n",
    "        if(is_avg_clustering):\n",
    "            print(f\"Average Clustering {self.name} is: \", nx.average_clustering(uni_graph.crypto_swaps_graph))\n",
    "        if(is_plot):\n",
    "            degree_list_graph = self.get_list_degree()\n",
    "            self.draw_plot_degree(degree_list_graph)\n",
    "            \n",
    "        if(is_page_rank):    \n",
    "            page_rank = self.get_sorted_page_rank_nodes()\n",
    "            print(f\"{self.name} Top 100 Tokens: \", page_rank[-1:-100:-1])\n",
    "        \n",
    "        if(is_betweeness):\n",
    "            betweenness_centrality = nx.betweenness_centrality(dex_graph.crypto_swaps_graph)\n",
    "            betweenness_centrality = sorted(betweenness_centrality.items(), key = operator.itemgetter(1))    \n",
    "            print(\"Betweenness\", betweenness_centrality)\n",
    "            \n",
    "        if(is_eigen):\n",
    "            eigen_vector_centrality = nx.eigenvector_centrality(dex_graph.crypto_swaps_graph)\n",
    "            print(\"EigenVector\", eigen_vector_centrality)\n",
    "        \n",
    "        if(is_closeness):\n",
    "            closeness_centrality = nx.closeness_centrality(dex_graph.crypto_swaps_graph)\n",
    "            closeness_centrality = sorted(closeness_centrality.items(), key = operator.itemgetter(1))    \n",
    "            print(\"Closeness\", closeness_centrality)\n",
    "            \n",
    "        print(\"Components:\")\n",
    "        num_componenent = [x for x in nx.connected_components(self.crypto_graph)]\n",
    "        print([len(component) for component in num_componenent])\n",
    "        \n",
    "        \n",
    "        num_nodes = self.crypto_graph.number_of_nodes()\n",
    "        max_edges = (num_nodes * (num_nodes - 1)) / 2\n",
    "        print(\"Density of the graph is: \", (self.crypto_graph.number_of_edges() * 2) / (max_edges))\n",
    "        \n",
    "    def check_power_law(self):\n",
    "            \n",
    "        count_deg = self.get_count_deg(self.get_list_degree())\n",
    "\n",
    "        x = [np.log(sample[0]) for sample in count_deg]\n",
    "        y = [np.log(sample[1]) for sample in count_deg]\n",
    "        x2 = sm.add_constant(x)\n",
    "        est = sm.OLS(y, x2)\n",
    "        print(est.fit().summary())\n",
    "        print(est.fit().f_pvalue)"
   ]
  },
  {
   "cell_type": "markdown",
   "id": "65ad56f8",
   "metadata": {},
   "source": [
    "<h2><span style=\"color:orange\">Making Without Filter Dex Pools</span></h2>"
   ]
  },
  {
   "cell_type": "code",
   "execution_count": 6,
   "id": "2fbbc5c8",
   "metadata": {},
   "outputs": [],
   "source": [
    "uni_dex = DexPools(\"../PoolsLiquidities/LiquidityPools/UniSwapV2.csv\", \"UniSwapV2\")\n",
    "sushi_dex = DexPools(\"../PoolsLiquidities/LiquidityPools/SushiSwap.csv\", \"SushiSwap\")"
   ]
  },
  {
   "cell_type": "markdown",
   "id": "ec654909",
   "metadata": {},
   "source": [
    "<h2><span style=\"color:orange\">Making Without Filter Dex Graphs</span></h2>"
   ]
  },
  {
   "cell_type": "code",
   "execution_count": 7,
   "id": "0ed21909",
   "metadata": {},
   "outputs": [],
   "source": [
    "uni_graph = WeightedDexGraph(uni_dex.df_pools, \"UniSwapV2\")\n",
    "sushi_graph = WeightedDexGraph(sushi_dex.df_pools, \"SushiSwap\")"
   ]
  },
  {
   "cell_type": "markdown",
   "id": "dc524c88",
   "metadata": {},
   "source": [
    "<h2><span style=\"color:orange\">Eigen Centrality for Graphs</span></h2>"
   ]
  },
  {
   "cell_type": "code",
   "execution_count": 8,
   "id": "bcff37ae",
   "metadata": {},
   "outputs": [
    {
     "data": {
      "text/plain": [
       "[('WETH', 0.6904873158786964),\n",
       " ('USDT', 0.4782042143694205),\n",
       " ('USDC', 0.4164555328637535),\n",
       " ('DAI', 0.16872964767598622),\n",
       " ('SHIB', 0.13826876911394761),\n",
       " ('SAITAMA', 0.10550838949955167),\n",
       " ('UNI', 0.07805884145089223),\n",
       " ('HEX', 0.06340173370643366),\n",
       " ('KISHU', 0.05600199499508521),\n",
       " ('WBTC', 0.05370343993626589),\n",
       " ('AMPL', 0.04501505784352522),\n",
       " ('LINK', 0.042947142523790595),\n",
       " ('ELON', 0.04026161737535216),\n",
       " ('eMax', 0.03681353008256764),\n",
       " ('STRONG', 0.034265371437017356),\n",
       " ('YFI', 0.03002456339119282),\n",
       " ('POLS', 0.028979037585452824),\n",
       " ('SUSHI', 0.028593870451554204),\n",
       " ('SAND', 0.026734756960900122)]"
      ]
     },
     "execution_count": 8,
     "metadata": {},
     "output_type": "execute_result"
    }
   ],
   "source": [
    "eigen_vec = uni_graph.get_eigen_centrality()\n",
    "eigen_vec = uni_graph.get_reversed_sorted_ranks(eigen_vec)\n",
    "eigen_vec = uni_graph.change_ranks_with_symbol(eigen_vec)\n",
    "sushi_graph.get_top_ranks(eigen_vec, 20)"
   ]
  },
  {
   "cell_type": "code",
   "execution_count": 9,
   "id": "1a67669e",
   "metadata": {},
   "outputs": [
    {
     "data": {
      "text/plain": [
       "[('WETH', 0.7037413749462486),\n",
       " ('USDC', 0.425593421192498),\n",
       " ('USDT', 0.3256757076203685),\n",
       " ('SUSHI', 0.23813392477433312),\n",
       " ('DAI', 0.2375641940959311),\n",
       " ('YFI', 0.09361026135841681),\n",
       " ('WBTC', 0.0913129105494755),\n",
       " ('CRV', 0.0886448549929251),\n",
       " ('SPELL', 0.08830914005297551),\n",
       " ('OHM', 0.08628198748065827),\n",
       " ('ALCX', 0.08348888866774301),\n",
       " ('CVX', 0.07469097344321851),\n",
       " ('LINK', 0.06335569629466876),\n",
       " ('ILV', 0.05844244692187639),\n",
       " ('SNX', 0.051749050364771794),\n",
       " ('FTM', 0.04948137178425064),\n",
       " ('OHM', 0.047985277322225746),\n",
       " ('AAVE', 0.045697237017449335),\n",
       " ('COMP', 0.043953753457237996)]"
      ]
     },
     "execution_count": 9,
     "metadata": {},
     "output_type": "execute_result"
    }
   ],
   "source": [
    "eigen_vec = sushi_graph.get_eigen_centrality()\n",
    "eigen_vec = sushi_graph.get_reversed_sorted_ranks(eigen_vec)\n",
    "eigen_vec = sushi_graph.change_ranks_with_symbol(eigen_vec)\n",
    "sushi_graph.get_top_ranks(eigen_vec, 20)"
   ]
  },
  {
   "cell_type": "markdown",
   "id": "222b214e",
   "metadata": {},
   "source": [
    "<h2><span style=\"color:orange\">Page Rank Centrality for Graphs</span></h2>"
   ]
  },
  {
   "cell_type": "code",
   "execution_count": 13,
   "id": "57c51838",
   "metadata": {},
   "outputs": [
    {
     "data": {
      "text/plain": [
       "[('WETH', 0.40474512455907413),\n",
       " ('USDT', 0.03430883260154094),\n",
       " ('USDC', 0.03174279863170742),\n",
       " ('DAI', 0.011995307257200523),\n",
       " ('SHIB', 0.007006389495330423),\n",
       " ('SAITAMA', 0.0052859517439604155),\n",
       " ('UNI', 0.0043086263986831345),\n",
       " ('WBTC', 0.0037084592052601933),\n",
       " ('HEX', 0.003437170952949021),\n",
       " ('KISHU', 0.002808218269639916),\n",
       " ('AMPL', 0.0023034563828705583),\n",
       " ('LINK', 0.0022885502171765865),\n",
       " ('ELON', 0.0020242777818097342),\n",
       " ('eMax', 0.0018448319636285289),\n",
       " ('STRONG', 0.0017536352620413226),\n",
       " ('SUSHI', 0.001578720347511097),\n",
       " ('YFI', 0.0015554661115289561),\n",
       " ('POLS', 0.001456717169537914),\n",
       " ('SAND', 0.0014072419581891173)]"
      ]
     },
     "execution_count": 13,
     "metadata": {},
     "output_type": "execute_result"
    }
   ],
   "source": [
    "rank_vec = uni_graph.get_page_rank()\n",
    "rank_vec = uni_graph.get_reversed_sorted_ranks(rank_vec)\n",
    "rank_vec = uni_graph.change_ranks_with_symbol(rank_vec)\n",
    "uni_graph.get_top_ranks(rank_vec, 20)"
   ]
  },
  {
   "cell_type": "code",
   "execution_count": 14,
   "id": "331119e0",
   "metadata": {},
   "outputs": [
    {
     "data": {
      "text/plain": [
       "[('WETH', 0.406476824100352),\n",
       " ('USDC', 0.049368284610996016),\n",
       " ('USDT', 0.04219098231900646),\n",
       " ('DAI', 0.0308370571748322),\n",
       " ('SUSHI', 0.022121458822418918),\n",
       " ('OHM', 0.012736107192170252),\n",
       " ('WBTC', 0.011816359292453837),\n",
       " ('CRV', 0.008881712205619547),\n",
       " ('YFI', 0.00826475797960392),\n",
       " ('SPELL', 0.007586624282773023),\n",
       " ('ALCX', 0.007168285018674142),\n",
       " ('CVX', 0.006391436702085728),\n",
       " ('OHM', 0.006246286321384668),\n",
       " ('LINK', 0.0057193603681890805),\n",
       " ('ILV', 0.0050302505179269895),\n",
       " ('SNX', 0.004549446460448045),\n",
       " ('FTM', 0.004248649265585473),\n",
       " ('AAVE', 0.003985186296549398),\n",
       " ('COMP', 0.0037914466566418854)]"
      ]
     },
     "execution_count": 14,
     "metadata": {},
     "output_type": "execute_result"
    }
   ],
   "source": [
    "rank_vec = sushi_graph.get_page_rank()\n",
    "rank_vec = sushi_graph.get_reversed_sorted_ranks(rank_vec)\n",
    "rank_vec = sushi_graph.change_ranks_with_symbol(rank_vec)\n",
    "sushi_graph.get_top_ranks(rank_vec, 20)"
   ]
  },
  {
   "cell_type": "markdown",
   "id": "cd75a0c8",
   "metadata": {},
   "source": [
    "<h2><span style=\"color:orange\">Degree With Weights Graphs</span></h2>"
   ]
  },
  {
   "cell_type": "code",
   "execution_count": 18,
   "id": "4576970b",
   "metadata": {},
   "outputs": [
    {
     "data": {
      "text/plain": [
       "[('WETH', 155699678),\n",
       " ('USDT', 13769608),\n",
       " ('USDC', 13318534),\n",
       " ('DAI', 4953335),\n",
       " ('SHIB', 2709783),\n",
       " ('SAITAMA', 2035974),\n",
       " ('UNI', 1700282),\n",
       " ('WBTC', 1550031),\n",
       " ('HEX', 1412195),\n",
       " ('KISHU', 1082028),\n",
       " ('LINK', 893424),\n",
       " ('AMPL', 891116),\n",
       " ('ELON', 780069),\n",
       " ('eMax', 709673),\n",
       " ('STRONG', 678818),\n",
       " ('SUSHI', 618713),\n",
       " ('YFI', 603022),\n",
       " ('POLS', 562155),\n",
       " ('SAND', 548481)]"
      ]
     },
     "execution_count": 18,
     "metadata": {},
     "output_type": "execute_result"
    }
   ],
   "source": [
    "degree_list = dict(uni_graph.crypto_graph.degree(weight = 'weight'))\n",
    "degree_list = uni_graph.get_reversed_sorted_ranks(degree_list)\n",
    "degree_list = uni_graph.change_ranks_with_symbol(degree_list)\n",
    "uni_graph.get_top_ranks(degree_list, 20)"
   ]
  },
  {
   "cell_type": "code",
   "execution_count": 19,
   "id": "22cf95d3",
   "metadata": {},
   "outputs": [
    {
     "data": {
      "text/plain": [
       "[('WETH', 17714282),\n",
       " ('USDC', 2256646),\n",
       " ('USDT', 1847276),\n",
       " ('DAI', 1500893),\n",
       " ('SUSHI', 1050087),\n",
       " ('OHM', 648386),\n",
       " ('WBTC', 589119),\n",
       " ('CRV', 436214),\n",
       " ('YFI', 398559),\n",
       " ('SPELL', 366502),\n",
       " ('ALCX', 344734),\n",
       " ('OHM', 326262),\n",
       " ('CVX', 308400),\n",
       " ('LINK', 264800),\n",
       " ('ILV', 241954),\n",
       " ('SNX', 219506),\n",
       " ('FTM', 204329),\n",
       " ('AAVE', 191576),\n",
       " ('RUNE', 184941)]"
      ]
     },
     "execution_count": 19,
     "metadata": {},
     "output_type": "execute_result"
    }
   ],
   "source": [
    "degree_list = dict(sushi_graph.crypto_graph.degree(weight = 'weight'))\n",
    "degree_list = sushi_graph.get_reversed_sorted_ranks(degree_list)\n",
    "degree_list = sushi_graph.change_ranks_with_symbol(degree_list)\n",
    "sushi_graph.get_top_ranks(degree_list, 20)"
   ]
  },
  {
   "cell_type": "code",
   "execution_count": null,
   "id": "e6ac0980",
   "metadata": {},
   "outputs": [],
   "source": []
  }
 ],
 "metadata": {
  "kernelspec": {
   "display_name": "Python 3 (ipykernel)",
   "language": "python",
   "name": "python3"
  },
  "language_info": {
   "codemirror_mode": {
    "name": "ipython",
    "version": 3
   },
   "file_extension": ".py",
   "mimetype": "text/x-python",
   "name": "python",
   "nbconvert_exporter": "python",
   "pygments_lexer": "ipython3",
   "version": "3.10.6"
  }
 },
 "nbformat": 4,
 "nbformat_minor": 5
}
